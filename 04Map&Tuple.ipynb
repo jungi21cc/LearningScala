{
 "cells": [
  {
   "cell_type": "markdown",
   "metadata": {},
   "source": [
    "# Chapter 04. Map & Tuple"
   ]
  },
  {
   "cell_type": "markdown",
   "metadata": {},
   "source": [
    "## 1. create map"
   ]
  },
  {
   "cell_type": "code",
   "execution_count": 1,
   "metadata": {},
   "outputs": [
    {
     "data": {
      "text/plain": [
       "\u001b[36mscores\u001b[39m: \u001b[32mMap\u001b[39m[\u001b[32mString\u001b[39m, \u001b[32mInt\u001b[39m] = \u001b[33mMap\u001b[39m(\u001b[32m\"Alice\"\u001b[39m -> \u001b[32m10\u001b[39m, \u001b[32m\"Bob\"\u001b[39m -> \u001b[32m3\u001b[39m, \u001b[32m\"Cindy\"\u001b[39m -> \u001b[32m8\u001b[39m)"
      ]
     },
     "execution_count": 1,
     "metadata": {},
     "output_type": "execute_result"
    }
   ],
   "source": [
    "val scores = Map(\"Alice\" -> 10, \"Bob\" -> 3, \"Cindy\" -> 8)"
   ]
  },
  {
   "cell_type": "code",
   "execution_count": 2,
   "metadata": {},
   "outputs": [
    {
     "data": {
      "text/plain": [
       "\u001b[36mscores\u001b[39m: \u001b[32mcollection\u001b[39m.\u001b[32mmutable\u001b[39m.\u001b[32mMap\u001b[39m[\u001b[32mString\u001b[39m, \u001b[32mInt\u001b[39m] = \u001b[33mMap\u001b[39m(\n",
       "  \u001b[32m\"Bob\"\u001b[39m -> \u001b[32m3\u001b[39m,\n",
       "  \u001b[32m\"Alince\"\u001b[39m -> \u001b[32m10\u001b[39m,\n",
       "  \u001b[32m\"Cindy\"\u001b[39m -> \u001b[32m8\u001b[39m\n",
       ")"
      ]
     },
     "execution_count": 2,
     "metadata": {},
     "output_type": "execute_result"
    }
   ],
   "source": [
    "val scores = scala.collection.mutable.Map(\"Alince\" -> 10, \"Bob\" -> 3, \"Cindy\" -> 8)"
   ]
  },
  {
   "cell_type": "code",
   "execution_count": 3,
   "metadata": {},
   "outputs": [
    {
     "data": {
      "text/plain": [
       "\u001b[36mscores\u001b[39m: \u001b[32mcollection\u001b[39m.\u001b[32mmutable\u001b[39m.\u001b[32mHashMap\u001b[39m[\u001b[32mString\u001b[39m, \u001b[32mInt\u001b[39m] = \u001b[33mMap\u001b[39m()"
      ]
     },
     "execution_count": 3,
     "metadata": {},
     "output_type": "execute_result"
    }
   ],
   "source": [
    "val scores = new scala.collection.mutable.HashMap[String, Int]"
   ]
  },
  {
   "cell_type": "code",
   "execution_count": 4,
   "metadata": {},
   "outputs": [
    {
     "data": {
      "text/plain": [
       "\u001b[36mscores\u001b[39m: \u001b[32mMap\u001b[39m[\u001b[32mString\u001b[39m, \u001b[32mInt\u001b[39m] = \u001b[33mMap\u001b[39m(\u001b[32m\"Alice\"\u001b[39m -> \u001b[32m10\u001b[39m, \u001b[32m\"Bob\"\u001b[39m -> \u001b[32m3\u001b[39m, \u001b[32m\"Cindy\"\u001b[39m -> \u001b[32m8\u001b[39m)"
      ]
     },
     "execution_count": 4,
     "metadata": {},
     "output_type": "execute_result"
    }
   ],
   "source": [
    "val scores = Map((\"Alice\", 10), (\"Bob\", 3), (\"Cindy\", 8))"
   ]
  },
  {
   "cell_type": "code",
   "execution_count": null,
   "metadata": {},
   "outputs": [],
   "source": []
  },
  {
   "cell_type": "markdown",
   "metadata": {},
   "source": [
    "## 2. access map value"
   ]
  },
  {
   "cell_type": "code",
   "execution_count": 8,
   "metadata": {},
   "outputs": [
    {
     "data": {
      "text/plain": [
       "\u001b[36mbobsScore\u001b[39m: \u001b[32mInt\u001b[39m = \u001b[32m3\u001b[39m"
      ]
     },
     "execution_count": 8,
     "metadata": {},
     "output_type": "execute_result"
    }
   ],
   "source": [
    "val bobsScore = scores(\"Bob\")"
   ]
  },
  {
   "cell_type": "code",
   "execution_count": 9,
   "metadata": {},
   "outputs": [
    {
     "data": {
      "text/plain": [
       "\u001b[36mbobsScore\u001b[39m: \u001b[32mInt\u001b[39m = \u001b[32m3\u001b[39m"
      ]
     },
     "execution_count": 9,
     "metadata": {},
     "output_type": "execute_result"
    }
   ],
   "source": [
    "val bobsScore = if (scores.contains(\"Bob\")) scores(\"Bob\") else 0"
   ]
  },
  {
   "cell_type": "code",
   "execution_count": 10,
   "metadata": {},
   "outputs": [
    {
     "data": {
      "text/plain": [
       "\u001b[36mbobsScore\u001b[39m: \u001b[32mInt\u001b[39m = \u001b[32m3\u001b[39m"
      ]
     },
     "execution_count": 10,
     "metadata": {},
     "output_type": "execute_result"
    }
   ],
   "source": [
    "val bobsScore = scores.getOrElse(\"Bob\", 0)"
   ]
  },
  {
   "cell_type": "code",
   "execution_count": null,
   "metadata": {},
   "outputs": [],
   "source": []
  },
  {
   "cell_type": "markdown",
   "metadata": {},
   "source": [
    "## 3. refresh map value "
   ]
  },
  {
   "cell_type": "code",
   "execution_count": 10,
   "metadata": {},
   "outputs": [
    {
     "name": "stderr",
     "output_type": "stream",
     "text": [
      "cmd10.sc:1: value update is not a member of scala.collection.immutable.Map[String,Int]\n",
      "val res10 = scores(\"Bob\") = 10\n",
      "            ^Compilation Failed"
     ]
    },
    {
     "ename": "",
     "evalue": "",
     "output_type": "error",
     "traceback": [
      "Compilation Failed"
     ]
    }
   ],
   "source": [
    "scores(\"Bob\") = 10"
   ]
  },
  {
   "cell_type": "code",
   "execution_count": 10,
   "metadata": {},
   "outputs": [
    {
     "name": "stderr",
     "output_type": "stream",
     "text": [
      "cmd10.sc:1: value update is not a member of scala.collection.immutable.Map[String,Int]\n",
      "val res10 = scores(\"Fred\") = 7\n",
      "            ^Compilation Failed"
     ]
    },
    {
     "ename": "",
     "evalue": "",
     "output_type": "error",
     "traceback": [
      "Compilation Failed"
     ]
    }
   ],
   "source": [
    "scores(\"Fred\") = 7"
   ]
  },
  {
   "cell_type": "code",
   "execution_count": 10,
   "metadata": {},
   "outputs": [
    {
     "name": "stderr",
     "output_type": "stream",
     "text": [
      "cmd10.sc:1: value += is not a member of scala.collection.immutable.Map[String,Int]\n",
      "  Expression does not convert to assignment because receiver is not assignable.\n",
      "val res10 = scores += (\"Bob\" -> 10, \"Fred\" -> 7)\n",
      "                   ^Compilation Failed"
     ]
    },
    {
     "ename": "",
     "evalue": "",
     "output_type": "error",
     "traceback": [
      "Compilation Failed"
     ]
    }
   ],
   "source": [
    "scores += (\"Bob\" -> 10, \"Fred\" -> 7)"
   ]
  },
  {
   "cell_type": "code",
   "execution_count": 10,
   "metadata": {},
   "outputs": [
    {
     "name": "stderr",
     "output_type": "stream",
     "text": [
      "cmd10.sc:1: value -= is not a member of scala.collection.immutable.Map[String,Int]\n",
      "  Expression does not convert to assignment because receiver is not assignable.\n",
      "val res10 = scores -= \"Alice\"\n",
      "                   ^Compilation Failed"
     ]
    },
    {
     "ename": "",
     "evalue": "",
     "output_type": "error",
     "traceback": [
      "Compilation Failed"
     ]
    }
   ],
   "source": [
    "scores -= \"Alice\""
   ]
  },
  {
   "cell_type": "code",
   "execution_count": 13,
   "metadata": {},
   "outputs": [
    {
     "data": {
      "text/plain": [
       "\u001b[36mnewScores\u001b[39m: \u001b[32mMap\u001b[39m[\u001b[32mString\u001b[39m, \u001b[32mInt\u001b[39m] = \u001b[33mMap\u001b[39m(\n",
       "  \u001b[32m\"Alice\"\u001b[39m -> \u001b[32m10\u001b[39m,\n",
       "  \u001b[32m\"Bob\"\u001b[39m -> \u001b[32m5\u001b[39m,\n",
       "  \u001b[32m\"Cindy\"\u001b[39m -> \u001b[32m8\u001b[39m,\n",
       "  \u001b[32m\"Fred\"\u001b[39m -> \u001b[32m7\u001b[39m\n",
       ")"
      ]
     },
     "execution_count": 13,
     "metadata": {},
     "output_type": "execute_result"
    }
   ],
   "source": [
    "val newScores = scores + (\"Bob\" -> 5, \"Fred\" -> 7)"
   ]
  },
  {
   "cell_type": "code",
   "execution_count": 13,
   "metadata": {},
   "outputs": [
    {
     "name": "stderr",
     "output_type": "stream",
     "text": [
      "cmd13.sc:1: reassignment to val\n",
      "val res13 = scores = scores + (\"Bob\" -> 10, \"Fred\" -> 7)\n",
      "                   ^Compilation Failed"
     ]
    },
    {
     "ename": "",
     "evalue": "",
     "output_type": "error",
     "traceback": [
      "Compilation Failed"
     ]
    }
   ],
   "source": [
    "scores = scores + (\"Bob\" -> 10, \"Fred\" -> 7)"
   ]
  },
  {
   "cell_type": "code",
   "execution_count": 13,
   "metadata": {},
   "outputs": [
    {
     "name": "stderr",
     "output_type": "stream",
     "text": [
      "cmd13.sc:1: reassignment to val\n",
      "val res13 = scores = scores - \"Alice\"\n",
      "                   ^Compilation Failed"
     ]
    },
    {
     "ename": "",
     "evalue": "",
     "output_type": "error",
     "traceback": [
      "Compilation Failed"
     ]
    }
   ],
   "source": [
    "scores = scores - \"Alice\""
   ]
  },
  {
   "cell_type": "code",
   "execution_count": null,
   "metadata": {},
   "outputs": [],
   "source": []
  },
  {
   "cell_type": "markdown",
   "metadata": {},
   "source": [
    "## repeat map"
   ]
  },
  {
   "cell_type": "code",
   "execution_count": 13,
   "metadata": {},
   "outputs": [
    {
     "name": "stderr",
     "output_type": "stream",
     "text": [
      "cmd13.sc:1: not found: value map\n",
      "val res13 = for ((k, v) <- map) process k and v\n",
      "                           ^cmd13.sc:1: not found: value process\n",
      "val res13 = for ((k, v) <- map) process k and v\n",
      "                                ^cmd13.sc:1: not found: value and\n",
      "val res13 = for ((k, v) <- map) process k and v\n",
      "                                          ^Compilation Failed"
     ]
    },
    {
     "ename": "",
     "evalue": "",
     "output_type": "error",
     "traceback": [
      "Compilation Failed"
     ]
    }
   ],
   "source": [
    "for ((k, v) <- map) process k and v"
   ]
  },
  {
   "cell_type": "code",
   "execution_count": 14,
   "metadata": {},
   "outputs": [
    {
     "data": {
      "text/plain": [
       "\u001b[36mres13\u001b[39m: \u001b[32mSet\u001b[39m[\u001b[32mString\u001b[39m] = \u001b[33mSet\u001b[39m(\u001b[32m\"Alice\"\u001b[39m, \u001b[32m\"Bob\"\u001b[39m, \u001b[32m\"Cindy\"\u001b[39m)"
      ]
     },
     "execution_count": 14,
     "metadata": {},
     "output_type": "execute_result"
    }
   ],
   "source": [
    "scores.keySet"
   ]
  },
  {
   "cell_type": "code",
   "execution_count": 14,
   "metadata": {},
   "outputs": [
    {
     "name": "stderr",
     "output_type": "stream",
     "text": [
      "cmd14.sc:1: not found: value map\n",
      "val res14 = for ((k, v) <- map) yield (v, k)\n",
      "                           ^Compilation Failed"
     ]
    },
    {
     "ename": "",
     "evalue": "",
     "output_type": "error",
     "traceback": [
      "Compilation Failed"
     ]
    }
   ],
   "source": [
    "for ((k, v) <- map) yield (v, k)"
   ]
  },
  {
   "cell_type": "code",
   "execution_count": null,
   "metadata": {},
   "outputs": [],
   "source": []
  },
  {
   "cell_type": "markdown",
   "metadata": {},
   "source": [
    "## 5. sort map"
   ]
  },
  {
   "cell_type": "code",
   "execution_count": 15,
   "metadata": {},
   "outputs": [
    {
     "data": {
      "text/plain": [
       "\u001b[36mscores\u001b[39m: \u001b[32mcollection\u001b[39m.\u001b[32mimmutable\u001b[39m.\u001b[32mSortedMap\u001b[39m[\u001b[32mString\u001b[39m, \u001b[32mInt\u001b[39m] = \u001b[33mMap\u001b[39m(\n",
       "  \u001b[32m\"Alice\"\u001b[39m -> \u001b[32m10\u001b[39m,\n",
       "  \u001b[32m\"Bob\"\u001b[39m -> \u001b[32m3\u001b[39m,\n",
       "  \u001b[32m\"Cindy\"\u001b[39m -> \u001b[32m8\u001b[39m,\n",
       "  \u001b[32m\"Fred\"\u001b[39m -> \u001b[32m7\u001b[39m\n",
       ")"
      ]
     },
     "execution_count": 15,
     "metadata": {},
     "output_type": "execute_result"
    }
   ],
   "source": [
    "val scores = scala.collection.immutable.SortedMap(\"Alice\" -> 10, \"Fred\" -> 7, \"Bob\" -> 3, \"Cindy\" -> 8)"
   ]
  },
  {
   "cell_type": "code",
   "execution_count": null,
   "metadata": {},
   "outputs": [],
   "source": []
  },
  {
   "cell_type": "markdown",
   "metadata": {},
   "source": [
    "## 6. connect JAVA"
   ]
  },
  {
   "cell_type": "code",
   "execution_count": 16,
   "metadata": {},
   "outputs": [
    {
     "data": {
      "text/plain": [
       "\u001b[32mimport \u001b[39m\u001b[36mscala.collection.JavaConversions.mapAsScalaMap\u001b[39m"
      ]
     },
     "execution_count": 16,
     "metadata": {},
     "output_type": "execute_result"
    }
   ],
   "source": [
    "import scala.collection.JavaConversions.mapAsScalaMap"
   ]
  },
  {
   "cell_type": "code",
   "execution_count": 17,
   "metadata": {},
   "outputs": [
    {
     "data": {
      "text/plain": [
       "\u001b[36mscores\u001b[39m: \u001b[32mcollection\u001b[39m.\u001b[32mmutable\u001b[39m.\u001b[32mMap\u001b[39m[\u001b[32mString\u001b[39m, \u001b[32mInt\u001b[39m] = \u001b[33mMap\u001b[39m()"
      ]
     },
     "execution_count": 17,
     "metadata": {},
     "output_type": "execute_result"
    }
   ],
   "source": [
    "val scores: scala.collection.mutable.Map[String, Int] = new java.util.TreeMap[String, Int]"
   ]
  },
  {
   "cell_type": "code",
   "execution_count": 18,
   "metadata": {},
   "outputs": [
    {
     "data": {
      "text/plain": [
       "\u001b[32mimport \u001b[39m\u001b[36mscala.collection.JavaConversions.propertiesAsScalaMap\u001b[39m"
      ]
     },
     "execution_count": 18,
     "metadata": {},
     "output_type": "execute_result"
    }
   ],
   "source": [
    "import scala.collection.JavaConversions.propertiesAsScalaMap"
   ]
  },
  {
   "cell_type": "code",
   "execution_count": 19,
   "metadata": {},
   "outputs": [
    {
     "data": {
      "text/plain": [
       "\u001b[36mprops\u001b[39m: \u001b[32mcollection\u001b[39m.\u001b[32mMap\u001b[39m[\u001b[32mString\u001b[39m, \u001b[32mString\u001b[39m] = \u001b[33mMap\u001b[39m(\n",
       "  \u001b[32m\"gopherProxySet\"\u001b[39m -> \u001b[32m\"false\"\u001b[39m,\n",
       "  \u001b[32m\"awt.toolkit\"\u001b[39m -> \u001b[32m\"sun.lwawt.macosx.LWCToolkit\"\u001b[39m,\n",
       "  \u001b[32m\"java.specification.version\"\u001b[39m -> \u001b[32m\"11\"\u001b[39m,\n",
       "  \u001b[32m\"sun.cpu.isalist\"\u001b[39m -> \u001b[32m\"\"\u001b[39m,\n",
       "  \u001b[32m\"sun.jnu.encoding\"\u001b[39m -> \u001b[32m\"UTF-8\"\u001b[39m,\n",
       "  \u001b[32m\"java.class.path\"\u001b[39m -> \u001b[32m\"/Users/jk/Library/Jupyter/kernels/scala/launcher.jar\"\u001b[39m,\n",
       "  \u001b[32m\"java.vm.vendor\"\u001b[39m -> \u001b[32m\"Oracle Corporation\"\u001b[39m,\n",
       "  \u001b[32m\"coursier.mainJar\"\u001b[39m -> \u001b[32m\"/Users/jk/Library/Jupyter/kernels/scala/launcher.jar\"\u001b[39m,\n",
       "  \u001b[32m\"sun.arch.data.model\"\u001b[39m -> \u001b[32m\"64\"\u001b[39m,\n",
       "  \u001b[32m\"bootstrap.mainClass\"\u001b[39m -> \u001b[32m\"almond.ScalaKernel\"\u001b[39m,\n",
       "  \u001b[32m\"java.vendor.url\"\u001b[39m -> \u001b[32m\"http://java.oracle.com/\"\u001b[39m,\n",
       "  \u001b[32m\"user.timezone\"\u001b[39m -> \u001b[32m\"Asia/Seoul\"\u001b[39m,\n",
       "  \u001b[32m\"coursier.main.arg-1\"\u001b[39m -> \u001b[32m\"/Users/jk/Library/Jupyter/runtime/kernel-c5f36db1-d8f9-438d-a48f-672d5a1d54f1.json\"\u001b[39m,\n",
       "  \u001b[32m\"coursier.main.arg-0\"\u001b[39m -> \u001b[32m\"--connection-file\"\u001b[39m,\n",
       "  \u001b[32m\"os.name\"\u001b[39m -> \u001b[32m\"Mac OS X\"\u001b[39m,\n",
       "  \u001b[32m\"java.vm.specification.version\"\u001b[39m -> \u001b[32m\"11\"\u001b[39m,\n",
       "  \u001b[32m\"sun.java.launcher\"\u001b[39m -> \u001b[32m\"SUN_STANDARD\"\u001b[39m,\n",
       "  \u001b[32m\"user.country\"\u001b[39m -> \u001b[32m\"KR\"\u001b[39m,\n",
       "  \u001b[32m\"sun.boot.library.path\"\u001b[39m -> \u001b[32m\"/Library/Java/JavaVirtualMachines/openjdk-11.0.1.jdk/Contents/Home/lib\"\u001b[39m,\n",
       "  \u001b[32m\"sun.java.command\"\u001b[39m -> \u001b[32m\"/Users/jk/Library/Jupyter/kernels/scala/launcher.jar --connection-file /Users/jk/Library/Jupyter/runtime/kernel-c5f36db1-d8f9-438d-a48f-672d5a1d54f1.json\"\u001b[39m,\n",
       "  \u001b[32m\"http.nonProxyHosts\"\u001b[39m -> \u001b[32m\"local|*.local|169.254/16|*.169.254/16\"\u001b[39m,\n",
       "  \u001b[32m\"jdk.debug\"\u001b[39m -> \u001b[32m\"release\"\u001b[39m,\n",
       "  \u001b[32m\"sun.cpu.endian\"\u001b[39m -> \u001b[32m\"little\"\u001b[39m,\n",
       "  \u001b[32m\"user.home\"\u001b[39m -> \u001b[32m\"/Users/jk\"\u001b[39m,\n",
       "  \u001b[32m\"user.language\"\u001b[39m -> \u001b[32m\"en\"\u001b[39m,\n",
       "  \u001b[32m\"java.specification.vendor\"\u001b[39m -> \u001b[32m\"Oracle Corporation\"\u001b[39m,\n",
       "  \u001b[32m\"java.version.date\"\u001b[39m -> \u001b[32m\"2018-10-16\"\u001b[39m,\n",
       "  \u001b[32m\"java.home\"\u001b[39m -> \u001b[32m\"/Library/Java/JavaVirtualMachines/openjdk-11.0.1.jdk/Contents/Home\"\u001b[39m,\n",
       "  \u001b[32m\"file.separator\"\u001b[39m -> \u001b[32m\"/\"\u001b[39m,\n",
       "  \u001b[32m\"java.vm.compressedOopsMode\"\u001b[39m -> \u001b[32m\"Zero based\"\u001b[39m,\n",
       "  \u001b[32m\"line.separator\"\u001b[39m -> \u001b[32m\"\"\"\n",
       "\"\"\"\u001b[39m,\n",
       "  \u001b[32m\"java.specification.name\"\u001b[39m -> \u001b[32m\"Java Platform API Specification\"\u001b[39m,\n",
       "..."
      ]
     },
     "execution_count": 19,
     "metadata": {},
     "output_type": "execute_result"
    }
   ],
   "source": [
    "val props: scala.collection.Map[String, String] = System.getProperties()"
   ]
  },
  {
   "cell_type": "code",
   "execution_count": 21,
   "metadata": {},
   "outputs": [
    {
     "data": {
      "text/plain": [
       "\u001b[32mimport \u001b[39m\u001b[36mscala.collection.JavaConversions.mapAsJavaMap\n",
       "\u001b[39m\n",
       "\u001b[32mimport \u001b[39m\u001b[36mjava.awt.font.TextAttribute._\u001b[39m"
      ]
     },
     "execution_count": 21,
     "metadata": {},
     "output_type": "execute_result"
    }
   ],
   "source": [
    "import scala.collection.JavaConversions.mapAsJavaMap\n",
    "import java.awt.font.TextAttribute._"
   ]
  },
  {
   "cell_type": "code",
   "execution_count": 22,
   "metadata": {},
   "outputs": [
    {
     "data": {
      "text/plain": [
       "\u001b[36mattrs\u001b[39m: \u001b[32mMap\u001b[39m[\u001b[32mjava\u001b[39m.\u001b[32mawt\u001b[39m.\u001b[32mfont\u001b[39m.\u001b[32mTextAttribute\u001b[39m, \u001b[32mAny\u001b[39m] = \u001b[33mMap\u001b[39m(\n",
       "  java.awt.font.TextAttribute(family) -> \u001b[32m\"Serif\"\u001b[39m,\n",
       "  java.awt.font.TextAttribute(size) -> \u001b[32m12\u001b[39m\n",
       ")\n",
       "\u001b[36mfont\u001b[39m: \u001b[32mjava\u001b[39m.\u001b[32mawt\u001b[39m.\u001b[32mFont\u001b[39m = java.awt.Font[family=Serif,name=Serif,style=plain,size=12]"
      ]
     },
     "execution_count": 22,
     "metadata": {},
     "output_type": "execute_result"
    }
   ],
   "source": [
    "val attrs = Map(FAMILY -> \"Serif\", SIZE -> 12)\n",
    "val font = new java.awt.Font(attrs)"
   ]
  },
  {
   "cell_type": "code",
   "execution_count": null,
   "metadata": {},
   "outputs": [],
   "source": []
  },
  {
   "cell_type": "markdown",
   "metadata": {},
   "source": [
    "## 7. tuple"
   ]
  },
  {
   "cell_type": "code",
   "execution_count": 1,
   "metadata": {},
   "outputs": [
    {
     "data": {
      "text/plain": [
       "\u001b[36mt\u001b[39m: (\u001b[32mInt\u001b[39m, \u001b[32mDouble\u001b[39m, \u001b[32mString\u001b[39m) = (\u001b[32m1\u001b[39m, \u001b[32m2.0\u001b[39m, \u001b[32m\"java\"\u001b[39m)"
      ]
     },
     "execution_count": 1,
     "metadata": {},
     "output_type": "execute_result"
    }
   ],
   "source": [
    "val t = Tuple3(1, 2.0, \"java\")"
   ]
  },
  {
   "cell_type": "code",
   "execution_count": 2,
   "metadata": {},
   "outputs": [
    {
     "data": {
      "text/plain": [
       "\u001b[36mfirst\u001b[39m: \u001b[32mInt\u001b[39m = \u001b[32m1\u001b[39m\n",
       "\u001b[36msecond\u001b[39m: \u001b[32mDouble\u001b[39m = \u001b[32m2.0\u001b[39m\n",
       "\u001b[36mthird\u001b[39m: \u001b[32mString\u001b[39m = \u001b[32m\"java\"\u001b[39m"
      ]
     },
     "execution_count": 2,
     "metadata": {},
     "output_type": "execute_result"
    }
   ],
   "source": [
    "val (first, second, third) = t"
   ]
  },
  {
   "cell_type": "code",
   "execution_count": 3,
   "metadata": {},
   "outputs": [
    {
     "data": {
      "text/plain": [
       "\u001b[36msecond\u001b[39m: \u001b[32mDouble\u001b[39m = \u001b[32m2.0\u001b[39m"
      ]
     },
     "execution_count": 3,
     "metadata": {},
     "output_type": "execute_result"
    }
   ],
   "source": [
    "val second = t._2"
   ]
  },
  {
   "cell_type": "code",
   "execution_count": 4,
   "metadata": {},
   "outputs": [
    {
     "data": {
      "text/plain": [
       "\u001b[36mfirst\u001b[39m: \u001b[32mInt\u001b[39m = \u001b[32m1\u001b[39m\n",
       "\u001b[36msecond\u001b[39m: \u001b[32mDouble\u001b[39m = \u001b[32m2.0\u001b[39m"
      ]
     },
     "execution_count": 4,
     "metadata": {},
     "output_type": "execute_result"
    }
   ],
   "source": [
    "val (first, second, _) = t"
   ]
  },
  {
   "cell_type": "code",
   "execution_count": 5,
   "metadata": {},
   "outputs": [
    {
     "data": {
      "text/plain": [
       "\u001b[36mres4\u001b[39m: (\u001b[32mString\u001b[39m, \u001b[32mString\u001b[39m) = (\u001b[32m\"NY\"\u001b[39m, \u001b[32m\"ew ork\"\u001b[39m)"
      ]
     },
     "execution_count": 5,
     "metadata": {},
     "output_type": "execute_result"
    }
   ],
   "source": [
    "\"New York\".partition(_.isUpper)"
   ]
  },
  {
   "cell_type": "code",
   "execution_count": null,
   "metadata": {},
   "outputs": [],
   "source": []
  },
  {
   "cell_type": "markdown",
   "metadata": {},
   "source": [
    "## 8. zipping"
   ]
  },
  {
   "cell_type": "code",
   "execution_count": 6,
   "metadata": {},
   "outputs": [
    {
     "data": {
      "text/plain": [
       "\u001b[36msymbols\u001b[39m: \u001b[32mArray\u001b[39m[\u001b[32mString\u001b[39m] = \u001b[33mArray\u001b[39m(\u001b[32m\"<\"\u001b[39m, \u001b[32m\"-\"\u001b[39m, \u001b[32m\">\"\u001b[39m)\n",
       "\u001b[36mcounts\u001b[39m: \u001b[32mArray\u001b[39m[\u001b[32mInt\u001b[39m] = \u001b[33mArray\u001b[39m(\u001b[32m2\u001b[39m, \u001b[32m10\u001b[39m, \u001b[32m2\u001b[39m)\n",
       "\u001b[36mpairs\u001b[39m: \u001b[32mArray\u001b[39m[(\u001b[32mString\u001b[39m, \u001b[32mInt\u001b[39m)] = \u001b[33mArray\u001b[39m((\u001b[32m\"<\"\u001b[39m, \u001b[32m2\u001b[39m), (\u001b[32m\"-\"\u001b[39m, \u001b[32m10\u001b[39m), (\u001b[32m\">\"\u001b[39m, \u001b[32m2\u001b[39m))"
      ]
     },
     "execution_count": 6,
     "metadata": {},
     "output_type": "execute_result"
    }
   ],
   "source": [
    "val symbols = Array(\"<\", \"-\", \">\")\n",
    "val counts = Array(2, 10, 2)\n",
    "val pairs = symbols.zip(counts)"
   ]
  },
  {
   "cell_type": "code",
   "execution_count": 7,
   "metadata": {},
   "outputs": [
    {
     "name": "stdout",
     "output_type": "stream",
     "text": [
      "<<---------->>"
     ]
    }
   ],
   "source": [
    "for ((s, n) <- pairs) Console.print(s * n)"
   ]
  },
  {
   "cell_type": "code",
   "execution_count": null,
   "metadata": {},
   "outputs": [],
   "source": []
  },
  {
   "cell_type": "code",
   "execution_count": null,
   "metadata": {},
   "outputs": [],
   "source": []
  },
  {
   "cell_type": "code",
   "execution_count": null,
   "metadata": {},
   "outputs": [],
   "source": []
  },
  {
   "cell_type": "code",
   "execution_count": null,
   "metadata": {},
   "outputs": [],
   "source": []
  },
  {
   "cell_type": "code",
   "execution_count": null,
   "metadata": {},
   "outputs": [],
   "source": []
  },
  {
   "cell_type": "code",
   "execution_count": null,
   "metadata": {},
   "outputs": [],
   "source": []
  },
  {
   "cell_type": "code",
   "execution_count": null,
   "metadata": {},
   "outputs": [],
   "source": []
  }
 ],
 "metadata": {
  "kernelspec": {
   "display_name": "Scala",
   "language": "scala",
   "name": "scala"
  },
  "language_info": {
   "codemirror_mode": "text/x-scala",
   "file_extension": ".scala",
   "mimetype": "text/x-scala",
   "name": "scala",
   "nbconvert_exporter": "script",
   "version": "2.12.7"
  }
 },
 "nbformat": 4,
 "nbformat_minor": 2
}

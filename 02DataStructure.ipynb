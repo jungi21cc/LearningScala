{
 "cells": [
  {
   "cell_type": "markdown",
   "metadata": {},
   "source": [
    "# Chapter 02 Data structure & function"
   ]
  },
  {
   "cell_type": "code",
   "execution_count": null,
   "metadata": {},
   "outputs": [],
   "source": []
  },
  {
   "cell_type": "markdown",
   "metadata": {},
   "source": [
    "## 1. conditions"
   ]
  },
  {
   "cell_type": "code",
   "execution_count": 1,
   "metadata": {},
   "outputs": [
    {
     "data": {
      "text/plain": [
       "\u001b[36mx\u001b[39m: \u001b[32mInt\u001b[39m = \u001b[32m10\u001b[39m\n",
       "\u001b[36mres0_1\u001b[39m: \u001b[32mInt\u001b[39m = \u001b[32m1\u001b[39m"
      ]
     },
     "execution_count": 1,
     "metadata": {},
     "output_type": "execute_result"
    }
   ],
   "source": [
    "val x = 10\n",
    "\n",
    "if ( x > 0 ) 1 else -1"
   ]
  },
  {
   "cell_type": "code",
   "execution_count": 2,
   "metadata": {},
   "outputs": [
    {
     "data": {
      "text/plain": [
       "\u001b[36ms\u001b[39m: \u001b[32mInt\u001b[39m = \u001b[32m1\u001b[39m"
      ]
     },
     "execution_count": 2,
     "metadata": {},
     "output_type": "execute_result"
    }
   ],
   "source": [
    "val s = if ( x > 0 ) 1 else -1"
   ]
  },
  {
   "cell_type": "code",
   "execution_count": 2,
   "metadata": {},
   "outputs": [
    {
     "name": "stderr",
     "output_type": "stream",
     "text": [
      "(console):1: ';' expected but integer literal found.\n",
      "x > 0 ? 1 : -1\n",
      "             ^"
     ]
    },
    {
     "ename": "",
     "evalue": "",
     "output_type": "error",
     "traceback": [
      "(console):1: ';' expected but integer literal found.\nx > 0 ? 1 : -1\n             ^"
     ]
    }
   ],
   "source": [
    "x > 0 ? 1 : -1"
   ]
  },
  {
   "cell_type": "markdown",
   "metadata": {},
   "source": [
    "## 2. statement close"
   ]
  },
  {
   "cell_type": "code",
   "execution_count": 2,
   "metadata": {},
   "outputs": [
    {
     "name": "stderr",
     "output_type": "stream",
     "text": [
      "cmd2.sc:3: not found: value r\n",
      "val res2_1 = if (n > 0) { r = r * n; n -= 1 }\n",
      "                          ^cmd2.sc:3: value -= is not a member of Int\n",
      "  Expression does not convert to assignment because receiver is not assignable.\n",
      "val res2_1 = if (n > 0) { r = r * n; n -= 1 }\n",
      "                                       ^Compilation Failed"
     ]
    },
    {
     "ename": "",
     "evalue": "",
     "output_type": "error",
     "traceback": [
      "Compilation Failed"
     ]
    }
   ],
   "source": [
    "val n = 10\n",
    "\n",
    "if (n > 0) { r = r * n; n -= 1 }"
   ]
  },
  {
   "cell_type": "code",
   "execution_count": 2,
   "metadata": {},
   "outputs": [
    {
     "name": "stderr",
     "output_type": "stream",
     "text": [
      "cmd2.sc:1: reassignment to val\n",
      "val res2 = s = s0 + (v - v0) * t + //\n",
      "             ^Compilation Failed"
     ]
    },
    {
     "ename": "",
     "evalue": "",
     "output_type": "error",
     "traceback": [
      "Compilation Failed"
     ]
    }
   ],
   "source": [
    "s = s0 + (v - v0) * t + //\n",
    "    0.5 * (a - a0) * t * t"
   ]
  },
  {
   "cell_type": "code",
   "execution_count": 2,
   "metadata": {},
   "outputs": [
    {
     "name": "stderr",
     "output_type": "stream",
     "text": [
      "cmd2.sc:1: not found: value n\n",
      "val res2 = if (n > 0) {\n",
      "               ^cmd2.sc:2: not found: value r\n",
      "    r = r * n\n",
      "    ^cmd2.sc:3: not found: value n\n",
      "    n -= 1\n",
      "    ^Compilation Failed"
     ]
    },
    {
     "ename": "",
     "evalue": "",
     "output_type": "error",
     "traceback": [
      "Compilation Failed"
     ]
    }
   ],
   "source": [
    "if (n > 0) {\n",
    "    r = r * n\n",
    "    n -= 1\n",
    "}"
   ]
  },
  {
   "cell_type": "markdown",
   "metadata": {},
   "source": [
    "## 3. block & allocation"
   ]
  },
  {
   "cell_type": "code",
   "execution_count": 2,
   "metadata": {},
   "outputs": [
    {
     "name": "stderr",
     "output_type": "stream",
     "text": [
      "cmd2.sc:1: not found: value x0\n",
      "val distance = { val dx = x - x0; val dy = y - y0; sqrt(dx * dx + dy * dy)}\n",
      "                              ^cmd2.sc:1: not found: value y\n",
      "val distance = { val dx = x - x0; val dy = y - y0; sqrt(dx * dx + dy * dy)}\n",
      "                                           ^cmd2.sc:1: not found: value y0\n",
      "val distance = { val dx = x - x0; val dy = y - y0; sqrt(dx * dx + dy * dy)}\n",
      "                                               ^cmd2.sc:1: not found: value sqrt\n",
      "val distance = { val dx = x - x0; val dy = y - y0; sqrt(dx * dx + dy * dy)}\n",
      "                                                   ^Compilation Failed"
     ]
    },
    {
     "ename": "",
     "evalue": "",
     "output_type": "error",
     "traceback": [
      "Compilation Failed"
     ]
    }
   ],
   "source": [
    "val distance = { val dx = x - x0; val dy = y - y0; sqrt(dx * dx + dy * dy)}"
   ]
  },
  {
   "cell_type": "markdown",
   "metadata": {},
   "source": [
    "## 4. input & output"
   ]
  },
  {
   "cell_type": "code",
   "execution_count": 3,
   "metadata": {},
   "outputs": [
    {
     "name": "stdout",
     "output_type": "stream",
     "text": [
      "Answer: 42\n"
     ]
    }
   ],
   "source": [
    "print(\"Answer: \")\n",
    "println(42)"
   ]
  },
  {
   "cell_type": "code",
   "execution_count": 4,
   "metadata": {},
   "outputs": [
    {
     "name": "stdout",
     "output_type": "stream",
     "text": [
      "Answer: 42\n"
     ]
    }
   ],
   "source": [
    "println(\"Answer: \" + 42)"
   ]
  },
  {
   "cell_type": "code",
   "execution_count": 5,
   "metadata": {},
   "outputs": [
    {
     "name": "stdout",
     "output_type": "stream",
     "text": [
      "Hello, Fred! You are 42 years old.\n"
     ]
    }
   ],
   "source": [
    "printf(\"Hello, %s! You are %d years old.\\n\", \"Fred\", 42)"
   ]
  },
  {
   "cell_type": "markdown",
   "metadata": {},
   "source": [
    "## 5. loop"
   ]
  },
  {
   "cell_type": "code",
   "execution_count": 6,
   "metadata": {},
   "outputs": [
    {
     "data": {
      "text/plain": [
       "\u001b[36mn\u001b[39m: \u001b[32mInt\u001b[39m = \u001b[32m0\u001b[39m\n",
       "\u001b[36mr\u001b[39m: \u001b[32mInt\u001b[39m = \u001b[32m3628800\u001b[39m"
      ]
     },
     "execution_count": 6,
     "metadata": {},
     "output_type": "execute_result"
    }
   ],
   "source": [
    "var n = 10\n",
    "var r = 1\n",
    "\n",
    "while (n > 0) {\n",
    "    r = r * n\n",
    "    n -= 1\n",
    "}"
   ]
  },
  {
   "cell_type": "code",
   "execution_count": 7,
   "metadata": {},
   "outputs": [],
   "source": [
    "for (i <- 1 to n)\n",
    "    r = r * i"
   ]
  },
  {
   "cell_type": "code",
   "execution_count": 7,
   "metadata": {},
   "outputs": [
    {
     "name": "stderr",
     "output_type": "stream",
     "text": [
      "SyntaxError: found \"\", expected If | While | Try | DoWhile | For | Throw | Return | ImplicitLambda | SmallerExprOrLambda at index 15\n",
      "for (i <- expr)\n",
      "               ^"
     ]
    },
    {
     "ename": "",
     "evalue": "",
     "output_type": "error",
     "traceback": [
      "SyntaxError: found \"\", expected If | While | Try | DoWhile | For | Throw | Return | ImplicitLambda | SmallerExprOrLambda at index 15\nfor (i <- expr)\n               ^"
     ]
    }
   ],
   "source": [
    "for (i <- expr)"
   ]
  },
  {
   "cell_type": "code",
   "execution_count": 8,
   "metadata": {},
   "outputs": [
    {
     "data": {
      "text/plain": [
       "\u001b[36ms\u001b[39m: \u001b[32mString\u001b[39m = \u001b[32m\"Hello\"\u001b[39m\n",
       "\u001b[36msum\u001b[39m: \u001b[32mInt\u001b[39m = \u001b[32m500\u001b[39m"
      ]
     },
     "execution_count": 8,
     "metadata": {},
     "output_type": "execute_result"
    }
   ],
   "source": [
    "val s = \"Hello\"\n",
    "var sum = 0\n",
    "for (i <- 0 until s.length) // last value for i is s.length - 1\n",
    "    sum += s(i)"
   ]
  },
  {
   "cell_type": "code",
   "execution_count": 9,
   "metadata": {},
   "outputs": [
    {
     "data": {
      "text/plain": [
       "\u001b[36msum\u001b[39m: \u001b[32mInt\u001b[39m = \u001b[32m500\u001b[39m"
      ]
     },
     "execution_count": 9,
     "metadata": {},
     "output_type": "execute_result"
    }
   ],
   "source": [
    "var sum = 0\n",
    "for (ch <- \"Hello\") sum += ch"
   ]
  },
  {
   "cell_type": "markdown",
   "metadata": {},
   "source": [
    "## 6. advanced for loop & for comprehension"
   ]
  },
  {
   "cell_type": "code",
   "execution_count": 10,
   "metadata": {},
   "outputs": [
    {
     "name": "stdout",
     "output_type": "stream",
     "text": [
      "11 12 13 21 22 23 31 32 33 "
     ]
    }
   ],
   "source": [
    "for (i <- 1 to 3; j <- 1 to 3) print((10 * i + j) + \" \")"
   ]
  },
  {
   "cell_type": "code",
   "execution_count": 11,
   "metadata": {},
   "outputs": [
    {
     "name": "stdout",
     "output_type": "stream",
     "text": [
      "12 13 21 23 31 32 "
     ]
    }
   ],
   "source": [
    "for (i <- 1 to 3; j <- 1 to 3 if i != j) print((10 * i + j) + \" \")"
   ]
  },
  {
   "cell_type": "code",
   "execution_count": 12,
   "metadata": {},
   "outputs": [
    {
     "name": "stdout",
     "output_type": "stream",
     "text": [
      "13 22 23 31 32 33 "
     ]
    }
   ],
   "source": [
    "for (i <- 1 to 3; from = 4 - i; j <- from to 3) print((10 * i + j) + \" \")"
   ]
  },
  {
   "cell_type": "code",
   "execution_count": 13,
   "metadata": {},
   "outputs": [
    {
     "data": {
      "text/plain": [
       "\u001b[36mres12\u001b[39m: \u001b[32mcollection\u001b[39m.\u001b[32mimmutable\u001b[39m.\u001b[32mIndexedSeq\u001b[39m[\u001b[32mInt\u001b[39m] = \u001b[33mVector\u001b[39m(\n",
       "  \u001b[32m1\u001b[39m,\n",
       "  \u001b[32m2\u001b[39m,\n",
       "  \u001b[32m0\u001b[39m,\n",
       "  \u001b[32m1\u001b[39m,\n",
       "  \u001b[32m2\u001b[39m,\n",
       "  \u001b[32m0\u001b[39m,\n",
       "  \u001b[32m1\u001b[39m,\n",
       "  \u001b[32m2\u001b[39m,\n",
       "  \u001b[32m0\u001b[39m,\n",
       "  \u001b[32m1\u001b[39m\n",
       ")"
      ]
     },
     "execution_count": 13,
     "metadata": {},
     "output_type": "execute_result"
    }
   ],
   "source": [
    "for (i <- 1 to 10) yield i % 3"
   ]
  },
  {
   "cell_type": "code",
   "execution_count": 14,
   "metadata": {},
   "outputs": [
    {
     "data": {
      "text/plain": [
       "\u001b[36mres13_0\u001b[39m: \u001b[32mString\u001b[39m = \u001b[32m\"HIeflmlmop\"\u001b[39m\n",
       "\u001b[36mres13_1\u001b[39m: \u001b[32mcollection\u001b[39m.\u001b[32mimmutable\u001b[39m.\u001b[32mIndexedSeq\u001b[39m[\u001b[32mChar\u001b[39m] = \u001b[33mVector\u001b[39m(\n",
       "  \u001b[32m'H'\u001b[39m,\n",
       "  \u001b[32m'e'\u001b[39m,\n",
       "  \u001b[32m'l'\u001b[39m,\n",
       "  \u001b[32m'l'\u001b[39m,\n",
       "  \u001b[32m'o'\u001b[39m,\n",
       "  \u001b[32m'I'\u001b[39m,\n",
       "  \u001b[32m'f'\u001b[39m,\n",
       "  \u001b[32m'm'\u001b[39m,\n",
       "  \u001b[32m'm'\u001b[39m,\n",
       "  \u001b[32m'p'\u001b[39m\n",
       ")"
      ]
     },
     "execution_count": 14,
     "metadata": {},
     "output_type": "execute_result"
    }
   ],
   "source": [
    "for (c <- \"Hello\"; i <- 0 to 1) yield (c + i).toChar\n",
    "for (i <- 0 to 1; c <- \"Hello\") yield (c + i).toChar"
   ]
  },
  {
   "cell_type": "markdown",
   "metadata": {},
   "source": [
    "## 7. function"
   ]
  },
  {
   "cell_type": "code",
   "execution_count": 15,
   "metadata": {},
   "outputs": [
    {
     "data": {
      "text/plain": [
       "defined \u001b[32mfunction\u001b[39m \u001b[36mabs\u001b[39m"
      ]
     },
     "execution_count": 15,
     "metadata": {},
     "output_type": "execute_result"
    }
   ],
   "source": [
    "def abs(x: Double) = if (x >= 0) x else -x"
   ]
  },
  {
   "cell_type": "code",
   "execution_count": 16,
   "metadata": {},
   "outputs": [
    {
     "data": {
      "text/plain": [
       "defined \u001b[32mfunction\u001b[39m \u001b[36mfac\u001b[39m"
      ]
     },
     "execution_count": 16,
     "metadata": {},
     "output_type": "execute_result"
    }
   ],
   "source": [
    "def fac(n : Int) = {\n",
    "    var r = 1\n",
    "    for (i <- 1 to n) r = r * i\n",
    "    r\n",
    "}"
   ]
  },
  {
   "cell_type": "code",
   "execution_count": 17,
   "metadata": {},
   "outputs": [
    {
     "data": {
      "text/plain": [
       "defined \u001b[32mfunction\u001b[39m \u001b[36mfac\u001b[39m"
      ]
     },
     "execution_count": 17,
     "metadata": {},
     "output_type": "execute_result"
    }
   ],
   "source": [
    "def fac(n: Int): Int = if (n <= 0) 1 else n * fac(n - 1)"
   ]
  },
  {
   "cell_type": "markdown",
   "metadata": {},
   "source": [
    "## 8. decorator"
   ]
  },
  {
   "cell_type": "code",
   "execution_count": 18,
   "metadata": {},
   "outputs": [
    {
     "data": {
      "text/plain": [
       "defined \u001b[32mfunction\u001b[39m \u001b[36mdecorate\u001b[39m"
      ]
     },
     "execution_count": 18,
     "metadata": {},
     "output_type": "execute_result"
    }
   ],
   "source": [
    "def decorate(str: String, left: String = \"[\", right: String= \"]\") = left + str + right"
   ]
  },
  {
   "cell_type": "code",
   "execution_count": 19,
   "metadata": {},
   "outputs": [
    {
     "data": {
      "text/plain": [
       "\u001b[36mres18\u001b[39m: \u001b[32mString\u001b[39m = \u001b[32m\"[Hello]\"\u001b[39m"
      ]
     },
     "execution_count": 19,
     "metadata": {},
     "output_type": "execute_result"
    }
   ],
   "source": [
    "decorate(\"Hello\")"
   ]
  },
  {
   "cell_type": "code",
   "execution_count": 20,
   "metadata": {},
   "outputs": [
    {
     "data": {
      "text/plain": [
       "\u001b[36mres19\u001b[39m: \u001b[32mString\u001b[39m = \u001b[32m\"<<<Hello>>>\"\u001b[39m"
      ]
     },
     "execution_count": 20,
     "metadata": {},
     "output_type": "execute_result"
    }
   ],
   "source": [
    "decorate(\"Hello\", \"<<<\", \">>>\")"
   ]
  },
  {
   "cell_type": "code",
   "execution_count": 21,
   "metadata": {},
   "outputs": [
    {
     "data": {
      "text/plain": [
       "\u001b[36mres20\u001b[39m: \u001b[32mString\u001b[39m = \u001b[32m\"[Hello]<<<\"\u001b[39m"
      ]
     },
     "execution_count": 21,
     "metadata": {},
     "output_type": "execute_result"
    }
   ],
   "source": [
    "decorate(\"Hello\", right = \"]<<<\") // decorate(\"Hello\", \"[\", \"]\"<<<\")"
   ]
  },
  {
   "cell_type": "code",
   "execution_count": 22,
   "metadata": {},
   "outputs": [
    {
     "data": {
      "text/plain": [
       "defined \u001b[32mfunction\u001b[39m \u001b[36msum\u001b[39m"
      ]
     },
     "execution_count": 22,
     "metadata": {},
     "output_type": "execute_result"
    }
   ],
   "source": [
    "def sum(args: Int*) {\n",
    "    var result = 0\n",
    "    for (arg <- args) result += arg\n",
    "    result\n",
    "}"
   ]
  },
  {
   "cell_type": "code",
   "execution_count": 23,
   "metadata": {},
   "outputs": [],
   "source": [
    "val s = sum(1, 4, 9, 16, 25)"
   ]
  },
  {
   "cell_type": "code",
   "execution_count": 23,
   "metadata": {},
   "outputs": [
    {
     "name": "stderr",
     "output_type": "stream",
     "text": [
      "cmd23.sc:1: type mismatch;\n",
      " found   : scala.collection.immutable.Range.Inclusive\n",
      " required: Int\n",
      "val s = sum(1 to 5) //error\n",
      "              ^Compilation Failed"
     ]
    },
    {
     "ename": "",
     "evalue": "",
     "output_type": "error",
     "traceback": [
      "Compilation Failed"
     ]
    }
   ],
   "source": [
    "val s = sum(1 to 5) //error"
   ]
  },
  {
   "cell_type": "code",
   "execution_count": 24,
   "metadata": {},
   "outputs": [],
   "source": [
    "val s = sum(1 to 5:_*)"
   ]
  },
  {
   "cell_type": "code",
   "execution_count": 25,
   "metadata": {},
   "outputs": [
    {
     "data": {
      "text/plain": [
       "defined \u001b[32mfunction\u001b[39m \u001b[36mrecursiveSum\u001b[39m"
      ]
     },
     "execution_count": 25,
     "metadata": {},
     "output_type": "execute_result"
    }
   ],
   "source": [
    "def recursiveSum(args: Int*) : Int = {\n",
    "    if (args.length == 0) 0\n",
    "    else args.head + recursiveSum(args.tail: _*)\n",
    "}"
   ]
  },
  {
   "cell_type": "markdown",
   "metadata": {},
   "source": [
    "## 9. procedure"
   ]
  },
  {
   "cell_type": "code",
   "execution_count": 26,
   "metadata": {},
   "outputs": [
    {
     "data": {
      "text/plain": [
       "defined \u001b[32mfunction\u001b[39m \u001b[36mbox\u001b[39m"
      ]
     },
     "execution_count": 26,
     "metadata": {},
     "output_type": "execute_result"
    }
   ],
   "source": [
    "def box(s : String) {\n",
    "    val border = \"-\" * s.length + \"--\\n\"\n",
    "    println(border + \"|\" + s + \"|\\n\" + border)\n",
    "}"
   ]
  },
  {
   "cell_type": "code",
   "execution_count": 26,
   "metadata": {},
   "outputs": [
    {
     "name": "stderr",
     "output_type": "stream",
     "text": [
      "SyntaxError: found \"...\\n    \\n}\", expected \";\" | Newline.rep(1) | \"}\" at index 34\n",
      "    ...\n",
      "    ^"
     ]
    },
    {
     "ename": "",
     "evalue": "",
     "output_type": "error",
     "traceback": [
      "SyntaxError: found \"...\\n    \\n}\", expected \";\" | Newline.rep(1) | \"}\" at index 34\n    ...\n    ^"
     ]
    }
   ],
   "source": [
    "def box(s : String): Unit = {\n",
    "    ...\n",
    "    \n",
    "}"
   ]
  },
  {
   "cell_type": "markdown",
   "metadata": {},
   "source": [
    "## 10. lazy value"
   ]
  },
  {
   "cell_type": "code",
   "execution_count": 27,
   "metadata": {},
   "outputs": [
    {
     "data": {
      "text/plain": [
       "\u001b[36mwords\u001b[39m: \u001b[32mString\u001b[39m = \u001b[32m<lazy>\u001b[39m"
      ]
     },
     "execution_count": 27,
     "metadata": {},
     "output_type": "execute_result"
    }
   ],
   "source": [
    "lazy val words = scala.io.Source.fromFile(\"/usr/share/dict/words\").mkString"
   ]
  },
  {
   "cell_type": "code",
   "execution_count": 27,
   "metadata": {},
   "outputs": [
    {
     "name": "stderr",
     "output_type": "stream",
     "text": [
      "cmd27.sc:2: words is already defined as value words\n",
      "lazy val words = scala.io.Source.fromFile(\"/usr/share/dict/words\").mkString\n",
      "         ^Compilation Failed"
     ]
    },
    {
     "ename": "",
     "evalue": "",
     "output_type": "error",
     "traceback": [
      "Compilation Failed"
     ]
    }
   ],
   "source": [
    "val words = scala.io.Source.fromFile(\"/usr/share/dict/words\").mkString\n",
    "lazy val words = scala.io.Source.fromFile(\"/usr/share/dict/words\").mkString\n",
    "def words = scala.io.Source.fromFile(\"/usr/share/dict/words\").mkString"
   ]
  },
  {
   "cell_type": "markdown",
   "metadata": {},
   "source": [
    "## 11. exception"
   ]
  },
  {
   "cell_type": "code",
   "execution_count": 28,
   "metadata": {},
   "outputs": [
    {
     "ename": "",
     "evalue": "",
     "output_type": "error",
     "traceback": [
      "\u001b[31mjava.lang.IllegalArgumentException: x should not be negative\u001b[39m\n  ammonite.$sess.cmd27$Helper.<init>(\u001b[32mcmd27.sc\u001b[39m:\u001b[32m1\u001b[39m)\n  ammonite.$sess.cmd27$.<init>(\u001b[32mcmd27.sc\u001b[39m:\u001b[32m7\u001b[39m)\n  ammonite.$sess.cmd27$.<clinit>(\u001b[32mcmd27.sc\u001b[39m:\u001b[32m-1\u001b[39m)"
     ]
    }
   ],
   "source": [
    "throw new IllegalArgumentException(\"x should not be negative\")"
   ]
  },
  {
   "cell_type": "code",
   "execution_count": 28,
   "metadata": {},
   "outputs": [
    {
     "name": "stderr",
     "output_type": "stream",
     "text": [
      "cmd28.sc:1: not found: value sqrt\n",
      "val res28 = if (x >= 0) { sqrt(x)\n",
      "                          ^Compilation Failed"
     ]
    },
    {
     "ename": "",
     "evalue": "",
     "output_type": "error",
     "traceback": [
      "Compilation Failed"
     ]
    }
   ],
   "source": [
    "if (x >= 0) { sqrt(x)\n",
    "} else throw new IllegalArgumentException(\"x should not be negative\")"
   ]
  },
  {
   "cell_type": "code",
   "execution_count": 28,
   "metadata": {},
   "outputs": [
    {
     "name": "stderr",
     "output_type": "stream",
     "text": [
      "cmd28.sc:2: not found: value process\n",
      "    process(new URL(\"http://horstmann.com/fred-tiny.gif\"))\n",
      "    ^cmd28.sc:2: not found: type URL\n",
      "    process(new URL(\"http://horstmann.com/fred-tiny.gif\"))\n",
      "                ^cmd28.sc:5: not found: type MalformedURLException\n",
      "    case _: MalformedURLException => println(\"Bad URL: \" + url)\n",
      "            ^cmd28.sc:5: not found: value url\n",
      "    case _: MalformedURLException => println(\"Bad URL: \" + url)\n",
      "                                                           ^cmd28.sc:6: not found: type IOException\n",
      "    case ex: IOException => ex.printStackTrace()\n",
      "             ^Compilation Failed"
     ]
    },
    {
     "ename": "",
     "evalue": "",
     "output_type": "error",
     "traceback": [
      "Compilation Failed"
     ]
    }
   ],
   "source": [
    "try {\n",
    "    process(new URL(\"http://horstmann.com/fred-tiny.gif\"))\n",
    "    \n",
    "} catch {\n",
    "    case _: MalformedURLException => println(\"Bad URL: \" + url)\n",
    "    case ex: IOException => ex.printStackTrace()\n",
    "}"
   ]
  },
  {
   "cell_type": "code",
   "execution_count": 28,
   "metadata": {},
   "outputs": [
    {
     "name": "stderr",
     "output_type": "stream",
     "text": [
      "SyntaxError: found \"new URL(\\\"http://hors\", expected Semis | &(\"}\") | End | \",\" at index 7\n",
      "var in new URL(\"http://hors\n",
      "       ^"
     ]
    },
    {
     "ename": "",
     "evalue": "",
     "output_type": "error",
     "traceback": [
      "SyntaxError: found \"new URL(\\\"http://hors\", expected Semis | &(\"}\") | End | \",\" at index 7\nvar in new URL(\"http://hors\n       ^"
     ]
    }
   ],
   "source": [
    "var in new URL(\"http://horstmann.com/fred.gif\").openStream()\n",
    "try {\n",
    "    process(in)\n",
    "} finally {\n",
    "    in.close()\n",
    "}"
   ]
  },
  {
   "cell_type": "code",
   "execution_count": null,
   "metadata": {},
   "outputs": [],
   "source": []
  },
  {
   "cell_type": "code",
   "execution_count": null,
   "metadata": {},
   "outputs": [],
   "source": []
  },
  {
   "cell_type": "code",
   "execution_count": null,
   "metadata": {},
   "outputs": [],
   "source": []
  },
  {
   "cell_type": "code",
   "execution_count": null,
   "metadata": {},
   "outputs": [],
   "source": []
  }
 ],
 "metadata": {
  "kernelspec": {
   "display_name": "Scala",
   "language": "scala",
   "name": "scala"
  },
  "language_info": {
   "codemirror_mode": "text/x-scala",
   "file_extension": ".scala",
   "mimetype": "text/x-scala",
   "name": "scala",
   "nbconvert_exporter": "script",
   "version": "2.12.7"
  }
 },
 "nbformat": 4,
 "nbformat_minor": 2
}

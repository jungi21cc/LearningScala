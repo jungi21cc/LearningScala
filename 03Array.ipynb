{
 "cells": [
  {
   "cell_type": "markdown",
   "metadata": {},
   "source": [
    "# Chapter 03 Array"
   ]
  },
  {
   "cell_type": "code",
   "execution_count": null,
   "metadata": {},
   "outputs": [],
   "source": []
  },
  {
   "cell_type": "markdown",
   "metadata": {},
   "source": [
    "## 1. fixed length array"
   ]
  },
  {
   "cell_type": "code",
   "execution_count": 1,
   "metadata": {},
   "outputs": [
    {
     "data": {
      "text/plain": [
       "\u001b[36mnum\u001b[39m: \u001b[32mArray\u001b[39m[\u001b[32mInt\u001b[39m] = \u001b[33mArray\u001b[39m(\u001b[32m0\u001b[39m, \u001b[32m0\u001b[39m, \u001b[32m0\u001b[39m, \u001b[32m0\u001b[39m, \u001b[32m0\u001b[39m, \u001b[32m0\u001b[39m, \u001b[32m0\u001b[39m, \u001b[32m0\u001b[39m, \u001b[32m0\u001b[39m, \u001b[32m0\u001b[39m)\n",
       "\u001b[36ma\u001b[39m: \u001b[32mArray\u001b[39m[\u001b[32mString\u001b[39m] = \u001b[33mArray\u001b[39m(\n",
       "  \u001b[32mnull\u001b[39m,\n",
       "  \u001b[32mnull\u001b[39m,\n",
       "  \u001b[32mnull\u001b[39m,\n",
       "  \u001b[32mnull\u001b[39m,\n",
       "  \u001b[32mnull\u001b[39m,\n",
       "  \u001b[32mnull\u001b[39m,\n",
       "  \u001b[32mnull\u001b[39m,\n",
       "  \u001b[32mnull\u001b[39m,\n",
       "  \u001b[32mnull\u001b[39m,\n",
       "  \u001b[32mnull\u001b[39m\n",
       ")\n",
       "\u001b[36ms\u001b[39m: \u001b[32mArray\u001b[39m[\u001b[32mString\u001b[39m] = \u001b[33mArray\u001b[39m(\u001b[32m\"Goodbye\"\u001b[39m, \u001b[32m\"World\"\u001b[39m)"
      ]
     },
     "execution_count": 1,
     "metadata": {},
     "output_type": "execute_result"
    }
   ],
   "source": [
    "val num = new Array[Int](10)\n",
    "val a = new Array[String](10)\n",
    "val s = Array(\"Hello\", \"World\")\n",
    "s(0) = \"Goodbye\""
   ]
  },
  {
   "cell_type": "markdown",
   "metadata": {},
   "source": [
    "## 2. variable length array: array buffer"
   ]
  },
  {
   "cell_type": "code",
   "execution_count": 2,
   "metadata": {},
   "outputs": [
    {
     "data": {
      "text/plain": [
       "\u001b[32mimport \u001b[39m\u001b[36mscala.collection.mutable.ArrayBuffer\u001b[39m"
      ]
     },
     "execution_count": 2,
     "metadata": {},
     "output_type": "execute_result"
    }
   ],
   "source": [
    "import scala.collection.mutable.ArrayBuffer"
   ]
  },
  {
   "cell_type": "code",
   "execution_count": 9,
   "metadata": {},
   "outputs": [
    {
     "data": {
      "text/plain": [
       "\u001b[36mb\u001b[39m: \u001b[32mArrayBuffer\u001b[39m[\u001b[32mInt\u001b[39m] = \u001b[33mArrayBuffer\u001b[39m()\n",
       "\u001b[36mres8_1\u001b[39m: \u001b[32mArrayBuffer\u001b[39m[\u001b[32mInt\u001b[39m] = \u001b[33mArrayBuffer\u001b[39m()\n",
       "\u001b[36mres8_2\u001b[39m: \u001b[32mArrayBuffer\u001b[39m[\u001b[32mInt\u001b[39m] = \u001b[33mArrayBuffer\u001b[39m()\n",
       "\u001b[36mres8_3\u001b[39m: \u001b[32mArrayBuffer\u001b[39m[\u001b[32mInt\u001b[39m] = \u001b[33mArrayBuffer\u001b[39m(\u001b[32m1\u001b[39m, \u001b[32m1\u001b[39m, \u001b[32m2\u001b[39m, \u001b[32m3\u001b[39m, \u001b[32m5\u001b[39m, \u001b[32m8\u001b[39m, \u001b[32m13\u001b[39m, \u001b[32m21\u001b[39m)"
      ]
     },
     "execution_count": 9,
     "metadata": {},
     "output_type": "execute_result"
    }
   ],
   "source": [
    "val b = ArrayBuffer[Int]()\n",
    "b += 1\n",
    "b += (1, 2, 3, 5)\n",
    "b ++ Array(8, 13, 21)\n",
    "b.trimEnd(5)"
   ]
  },
  {
   "cell_type": "code",
   "execution_count": 10,
   "metadata": {},
   "outputs": [
    {
     "ename": "",
     "evalue": "",
     "output_type": "error",
     "traceback": [
      "\u001b[31mjava.lang.IndexOutOfBoundsException: 2\u001b[39m\n  scala.collection.mutable.ArrayBuffer.insertAll(\u001b[32mArrayBuffer.scala\u001b[39m:\u001b[32m138\u001b[39m)\n  scala.collection.mutable.BufferLike.insert(\u001b[32mBufferLike.scala\u001b[39m:\u001b[32m169\u001b[39m)\n  scala.collection.mutable.BufferLike.insert$(\u001b[32mBufferLike.scala\u001b[39m:\u001b[32m169\u001b[39m)\n  scala.collection.mutable.AbstractBuffer.insert(\u001b[32mBuffer.scala\u001b[39m:\u001b[32m48\u001b[39m)\n  ammonite.$sess.cmd9$Helper.<init>(\u001b[32mcmd9.sc\u001b[39m:\u001b[32m1\u001b[39m)\n  ammonite.$sess.cmd9$.<init>(\u001b[32mcmd9.sc\u001b[39m:\u001b[32m7\u001b[39m)\n  ammonite.$sess.cmd9$.<clinit>(\u001b[32mcmd9.sc\u001b[39m:\u001b[32m-1\u001b[39m)"
     ]
    }
   ],
   "source": [
    "b.insert(2, 6)"
   ]
  },
  {
   "cell_type": "code",
   "execution_count": 11,
   "metadata": {},
   "outputs": [
    {
     "ename": "",
     "evalue": "",
     "output_type": "error",
     "traceback": [
      "\u001b[31mjava.lang.IndexOutOfBoundsException: 2\u001b[39m\n  scala.collection.mutable.ArrayBuffer.insertAll(\u001b[32mArrayBuffer.scala\u001b[39m:\u001b[32m138\u001b[39m)\n  scala.collection.mutable.BufferLike.insert(\u001b[32mBufferLike.scala\u001b[39m:\u001b[32m169\u001b[39m)\n  scala.collection.mutable.BufferLike.insert$(\u001b[32mBufferLike.scala\u001b[39m:\u001b[32m169\u001b[39m)\n  scala.collection.mutable.AbstractBuffer.insert(\u001b[32mBuffer.scala\u001b[39m:\u001b[32m48\u001b[39m)\n  ammonite.$sess.cmd10$Helper.<init>(\u001b[32mcmd10.sc\u001b[39m:\u001b[32m1\u001b[39m)\n  ammonite.$sess.cmd10$.<init>(\u001b[32mcmd10.sc\u001b[39m:\u001b[32m7\u001b[39m)\n  ammonite.$sess.cmd10$.<clinit>(\u001b[32mcmd10.sc\u001b[39m:\u001b[32m-1\u001b[39m)"
     ]
    }
   ],
   "source": [
    "b.insert(2, 7, 8, 9)"
   ]
  },
  {
   "cell_type": "code",
   "execution_count": 12,
   "metadata": {},
   "outputs": [
    {
     "ename": "",
     "evalue": "",
     "output_type": "error",
     "traceback": [
      "\u001b[31mjava.lang.IndexOutOfBoundsException: 2\u001b[39m\n  scala.collection.mutable.ResizableArray.apply(\u001b[32mResizableArray.scala\u001b[39m:\u001b[32m42\u001b[39m)\n  scala.collection.mutable.ResizableArray.apply$(\u001b[32mResizableArray.scala\u001b[39m:\u001b[32m41\u001b[39m)\n  scala.collection.mutable.ArrayBuffer.apply(\u001b[32mArrayBuffer.scala\u001b[39m:\u001b[32m47\u001b[39m)\n  scala.collection.mutable.ArrayBuffer.remove(\u001b[32mArrayBuffer.scala\u001b[39m:\u001b[32m171\u001b[39m)\n  ammonite.$sess.cmd11$Helper.<init>(\u001b[32mcmd11.sc\u001b[39m:\u001b[32m1\u001b[39m)\n  ammonite.$sess.cmd11$.<init>(\u001b[32mcmd11.sc\u001b[39m:\u001b[32m7\u001b[39m)\n  ammonite.$sess.cmd11$.<clinit>(\u001b[32mcmd11.sc\u001b[39m:\u001b[32m-1\u001b[39m)"
     ]
    }
   ],
   "source": [
    "b.remove(2)"
   ]
  },
  {
   "cell_type": "code",
   "execution_count": 13,
   "metadata": {},
   "outputs": [
    {
     "ename": "",
     "evalue": "",
     "output_type": "error",
     "traceback": [
      "\u001b[31mjava.lang.IndexOutOfBoundsException: at 2 deleting 3\u001b[39m\n  scala.collection.mutable.ArrayBuffer.remove(\u001b[32mArrayBuffer.scala\u001b[39m:\u001b[32m160\u001b[39m)\n  ammonite.$sess.cmd12$Helper.<init>(\u001b[32mcmd12.sc\u001b[39m:\u001b[32m1\u001b[39m)\n  ammonite.$sess.cmd12$.<init>(\u001b[32mcmd12.sc\u001b[39m:\u001b[32m7\u001b[39m)\n  ammonite.$sess.cmd12$.<clinit>(\u001b[32mcmd12.sc\u001b[39m:\u001b[32m-1\u001b[39m)"
     ]
    }
   ],
   "source": [
    "b.remove(2, 3)"
   ]
  },
  {
   "cell_type": "code",
   "execution_count": 14,
   "metadata": {},
   "outputs": [
    {
     "data": {
      "text/plain": [
       "\u001b[36mres13\u001b[39m: \u001b[32mArray\u001b[39m[\u001b[32mInt\u001b[39m] = \u001b[33mArray\u001b[39m()"
      ]
     },
     "execution_count": 14,
     "metadata": {},
     "output_type": "execute_result"
    }
   ],
   "source": [
    "b.toArray"
   ]
  },
  {
   "cell_type": "markdown",
   "metadata": {},
   "source": [
    "## 3. array and array buffer"
   ]
  },
  {
   "cell_type": "code",
   "execution_count": 16,
   "metadata": {},
   "outputs": [
    {
     "name": "stdout",
     "output_type": "stream",
     "text": [
      "0: null\n",
      "1: null\n",
      "2: null\n",
      "3: null\n",
      "4: null\n",
      "5: null\n",
      "6: null\n",
      "7: null\n",
      "8: null\n",
      "9: null\n"
     ]
    }
   ],
   "source": [
    "for (i <- 0 until a.length)\n",
    "    println(i + \": \" + a(i))"
   ]
  },
  {
   "cell_type": "code",
   "execution_count": 17,
   "metadata": {},
   "outputs": [
    {
     "data": {
      "text/plain": [
       "\u001b[36mres16\u001b[39m: \u001b[32mRange\u001b[39m = \u001b[33mRange\u001b[39m(\u001b[32m0\u001b[39m, \u001b[32m1\u001b[39m, \u001b[32m2\u001b[39m, \u001b[32m3\u001b[39m, \u001b[32m4\u001b[39m, \u001b[32m5\u001b[39m, \u001b[32m6\u001b[39m, \u001b[32m7\u001b[39m, \u001b[32m8\u001b[39m, \u001b[32m9\u001b[39m)"
      ]
     },
     "execution_count": 17,
     "metadata": {},
     "output_type": "execute_result"
    }
   ],
   "source": [
    "0 until 10"
   ]
  },
  {
   "cell_type": "code",
   "execution_count": 17,
   "metadata": {},
   "outputs": [
    {
     "name": "stderr",
     "output_type": "stream",
     "text": [
      "SyntaxError: found \"\", expected If | While | Try | DoWhile | For | Throw | Return | ImplicitLambda | SmallerExprOrLambda at index 16\n",
      "for (i <- range)\n",
      "                ^"
     ]
    },
    {
     "ename": "",
     "evalue": "",
     "output_type": "error",
     "traceback": [
      "SyntaxError: found \"\", expected If | While | Try | DoWhile | For | Throw | Return | ImplicitLambda | SmallerExprOrLambda at index 16\nfor (i <- range)\n                ^"
     ]
    }
   ],
   "source": [
    "for (i <- range)"
   ]
  },
  {
   "cell_type": "code",
   "execution_count": 18,
   "metadata": {},
   "outputs": [
    {
     "data": {
      "text/plain": [
       "\u001b[36mres17\u001b[39m: \u001b[32mRange\u001b[39m = \u001b[33mRange\u001b[39m(\u001b[32m0\u001b[39m, \u001b[32m2\u001b[39m, \u001b[32m4\u001b[39m, \u001b[32m6\u001b[39m, \u001b[32m8\u001b[39m)"
      ]
     },
     "execution_count": 18,
     "metadata": {},
     "output_type": "execute_result"
    }
   ],
   "source": [
    "0 until (a.length, 2)"
   ]
  },
  {
   "cell_type": "code",
   "execution_count": 19,
   "metadata": {},
   "outputs": [
    {
     "data": {
      "text/plain": [
       "\u001b[36mres18\u001b[39m: \u001b[32mRange\u001b[39m = \u001b[33mRange.Inclusive\u001b[39m(\u001b[32m9\u001b[39m, \u001b[32m8\u001b[39m, \u001b[32m7\u001b[39m, \u001b[32m6\u001b[39m, \u001b[32m5\u001b[39m, \u001b[32m4\u001b[39m, \u001b[32m3\u001b[39m, \u001b[32m2\u001b[39m, \u001b[32m1\u001b[39m, \u001b[32m0\u001b[39m)"
      ]
     },
     "execution_count": 19,
     "metadata": {},
     "output_type": "execute_result"
    }
   ],
   "source": [
    "(0 until a.length).reverse"
   ]
  },
  {
   "cell_type": "code",
   "execution_count": 20,
   "metadata": {},
   "outputs": [
    {
     "name": "stdout",
     "output_type": "stream",
     "text": [
      "null\n",
      "null\n",
      "null\n",
      "null\n",
      "null\n",
      "null\n",
      "null\n",
      "null\n",
      "null\n",
      "null\n"
     ]
    }
   ],
   "source": [
    "for (elem <- a)\n",
    "    println(elem)"
   ]
  },
  {
   "cell_type": "markdown",
   "metadata": {},
   "source": [
    "## 4. array transform"
   ]
  },
  {
   "cell_type": "code",
   "execution_count": 20,
   "metadata": {},
   "outputs": [
    {
     "name": "stderr",
     "output_type": "stream",
     "text": [
      "cmd20.sc:2: not found: value elem\n",
      "val result = for (elm <- a) yield 2 * elem\n",
      "                                      ^Compilation Failed"
     ]
    },
    {
     "ename": "",
     "evalue": "",
     "output_type": "error",
     "traceback": [
      "Compilation Failed"
     ]
    }
   ],
   "source": [
    "val a = Array(2, 3, 5, 7, 11)\n",
    "val result = for (elm <- a) yield 2 * elem"
   ]
  },
  {
   "cell_type": "code",
   "execution_count": 20,
   "metadata": {},
   "outputs": [
    {
     "name": "stderr",
     "output_type": "stream",
     "text": [
      "cmd20.sc:1: value % is not a member of Array[String]\n",
      "val res20 = for (elem <- a if a % 2 == 0) yield 2 * elem\n",
      "                                ^Compilation Failed"
     ]
    },
    {
     "ename": "",
     "evalue": "",
     "output_type": "error",
     "traceback": [
      "Compilation Failed"
     ]
    }
   ],
   "source": [
    "for (elem <- a if a % 2 == 0) yield 2 * elem"
   ]
  },
  {
   "cell_type": "code",
   "execution_count": 20,
   "metadata": {},
   "outputs": [
    {
     "name": "stderr",
     "output_type": "stream",
     "text": [
      "cmd20.sc:5: type mismatch;\n",
      " found   : Int(0)\n",
      " required: String\n",
      "    if (a(i) >= 0) i += 1\n",
      "                ^cmd20.sc:8: value remove is not a member of Array[String]\n",
      "        else { a.remove(i); n -= 1}\n",
      "                 ^Compilation Failed"
     ]
    },
    {
     "ename": "",
     "evalue": "",
     "output_type": "error",
     "traceback": [
      "Compilation Failed"
     ]
    }
   ],
   "source": [
    "var first = true\n",
    "var n = a.length\n",
    "var i = 0\n",
    "while (i < n) {\n",
    "    if (a(i) >= 0) i += 1\n",
    "    else {\n",
    "        if (first) { first = false; i += 1}\n",
    "        else { a.remove(i); n -= 1}\n",
    "    }\n",
    "}"
   ]
  },
  {
   "cell_type": "code",
   "execution_count": 20,
   "metadata": {},
   "outputs": [
    {
     "name": "stderr",
     "output_type": "stream",
     "text": [
      "cmd20.sc:2: type mismatch;\n",
      " found   : Int(0)\n",
      " required: String\n",
      "val indexes = for (i <- 0 until a.length if first || a(i) >= 0) yield {\n",
      "                                                             ^cmd20.sc:3: type mismatch;\n",
      " found   : Int(0)\n",
      " required: String\n",
      "    if (a(i) < 0) first = false; i\n",
      "               ^Compilation Failed"
     ]
    },
    {
     "ename": "",
     "evalue": "",
     "output_type": "error",
     "traceback": [
      "Compilation Failed"
     ]
    }
   ],
   "source": [
    "var first = false\n",
    "val indexes = for (i <- 0 until a.length if first || a(i) >= 0) yield {\n",
    "    if (a(i) < 0) first = false; i\n",
    "}"
   ]
  },
  {
   "cell_type": "code",
   "execution_count": 20,
   "metadata": {},
   "outputs": [
    {
     "name": "stderr",
     "output_type": "stream",
     "text": [
      "cmd20.sc:1: not found: value indexes\n",
      "val res20_0 = for (j <- 0 until indexes.length) a(j) = a(indexes(j))\n",
      "                                ^cmd20.sc:1: not found: value indexes\n",
      "val res20_0 = for (j <- 0 until indexes.length) a(j) = a(indexes(j))\n",
      "                                                         ^cmd20.sc:2: value trimEnd is not a member of Array[String]\n",
      "val res20_1 = a.trimEnd(a.length - indexes.length)\n",
      "                ^cmd20.sc:2: not found: value indexes\n",
      "val res20_1 = a.trimEnd(a.length - indexes.length)\n",
      "                                   ^Compilation Failed"
     ]
    },
    {
     "ename": "",
     "evalue": "",
     "output_type": "error",
     "traceback": [
      "Compilation Failed"
     ]
    }
   ],
   "source": [
    "for (j <- 0 until indexes.length) a(j) = a(indexes(j))\n",
    "a.trimEnd(a.length - indexes.length)"
   ]
  },
  {
   "cell_type": "markdown",
   "metadata": {},
   "source": [
    "## 5. normal algorithm"
   ]
  },
  {
   "cell_type": "code",
   "execution_count": 21,
   "metadata": {},
   "outputs": [
    {
     "data": {
      "text/plain": [
       "\u001b[36mres20\u001b[39m: \u001b[32mInt\u001b[39m = \u001b[32m19\u001b[39m"
      ]
     },
     "execution_count": 21,
     "metadata": {},
     "output_type": "execute_result"
    }
   ],
   "source": [
    "Array(1, 7, 2, 9).sum"
   ]
  },
  {
   "cell_type": "code",
   "execution_count": 22,
   "metadata": {},
   "outputs": [
    {
     "data": {
      "text/plain": [
       "\u001b[36mres21\u001b[39m: \u001b[32mString\u001b[39m = \u001b[32m\"little\"\u001b[39m"
      ]
     },
     "execution_count": 22,
     "metadata": {},
     "output_type": "execute_result"
    }
   ],
   "source": [
    "ArrayBuffer(\"Mary\", \"had\", \"a\", \"little\", \"lamb\").max"
   ]
  },
  {
   "cell_type": "code",
   "execution_count": 22,
   "metadata": {},
   "outputs": [
    {
     "name": "stderr",
     "output_type": "stream",
     "text": [
      "cmd22.sc:2: missing parameter type for expanded function ((x$1: <error>, x$2) => x$1.$less(x$2))\n",
      "val bSorted = b.sorted(_ < _)\n",
      "                       ^cmd22.sc:2: missing parameter type for expanded function ((x$1: <error>, x$2: <error>) => x$1.$less(x$2))\n",
      "val bSorted = b.sorted(_ < _)\n",
      "                           ^Compilation Failed"
     ]
    },
    {
     "ename": "",
     "evalue": "",
     "output_type": "error",
     "traceback": [
      "Compilation Failed"
     ]
    }
   ],
   "source": [
    "val b = ArrayBuffer(1, 7, 2, 9)\n",
    "val bSorted = b.sorted(_ < _)"
   ]
  },
  {
   "cell_type": "code",
   "execution_count": 23,
   "metadata": {},
   "outputs": [
    {
     "data": {
      "text/plain": [
       "\u001b[36ma\u001b[39m: \u001b[32mArray\u001b[39m[\u001b[32mInt\u001b[39m] = \u001b[33mArray\u001b[39m(\u001b[32m1\u001b[39m, \u001b[32m2\u001b[39m, \u001b[32m7\u001b[39m, \u001b[32m9\u001b[39m)"
      ]
     },
     "execution_count": 23,
     "metadata": {},
     "output_type": "execute_result"
    }
   ],
   "source": [
    "val a = Array(1, 7, 2, 9)\n",
    "scala.util.Sorting.quickSort(a)"
   ]
  },
  {
   "cell_type": "code",
   "execution_count": 23,
   "metadata": {},
   "outputs": [
    {
     "name": "stderr",
     "output_type": "stream",
     "text": [
      "cmd23.sc:2: value mkStirng is not a member of Array[Int]\n",
      "val res23_1 = a.mkStirng(\"<\", \",\", \">\")\n",
      "                ^Compilation Failed"
     ]
    },
    {
     "ename": "",
     "evalue": "",
     "output_type": "error",
     "traceback": [
      "Compilation Failed"
     ]
    }
   ],
   "source": [
    "a.mkString(\" and \")\n",
    "a.mkStirng(\"<\", \",\", \">\")"
   ]
  },
  {
   "cell_type": "code",
   "execution_count": 24,
   "metadata": {},
   "outputs": [
    {
     "data": {
      "text/plain": [
       "\u001b[36mres23\u001b[39m: \u001b[32mString\u001b[39m = \u001b[32m\"[I@1e96b264\"\u001b[39m"
      ]
     },
     "execution_count": 24,
     "metadata": {},
     "output_type": "execute_result"
    }
   ],
   "source": [
    "a.toString"
   ]
  },
  {
   "cell_type": "code",
   "execution_count": 25,
   "metadata": {},
   "outputs": [
    {
     "data": {
      "text/plain": [
       "\u001b[36mres24\u001b[39m: \u001b[32mString\u001b[39m = \u001b[32m\"ArrayBuffer()\"\u001b[39m"
      ]
     },
     "execution_count": 25,
     "metadata": {},
     "output_type": "execute_result"
    }
   ],
   "source": [
    "b.toString"
   ]
  },
  {
   "cell_type": "markdown",
   "metadata": {},
   "source": [
    "## 6. scala decoding"
   ]
  },
  {
   "cell_type": "code",
   "execution_count": 25,
   "metadata": {},
   "outputs": [
    {
     "name": "stderr",
     "output_type": "stream",
     "text": [
      "(console):1: '=' expected but eof found.\n",
      "def append(elems: A*): Unit\n",
      "                           ^"
     ]
    },
    {
     "ename": "",
     "evalue": "",
     "output_type": "error",
     "traceback": [
      "(console):1: '=' expected but eof found.\ndef append(elems: A*): Unit\n                           ^"
     ]
    }
   ],
   "source": [
    "def append(elems: A*): Unit"
   ]
  },
  {
   "cell_type": "code",
   "execution_count": 25,
   "metadata": {},
   "outputs": [
    {
     "name": "stderr",
     "output_type": "stream",
     "text": [
      "(console):1: '=' expected but eof found.\n",
      "def appendAll(xs: TraversableOnce[A]): Unit\n",
      "                                           ^"
     ]
    },
    {
     "ename": "",
     "evalue": "",
     "output_type": "error",
     "traceback": [
      "(console):1: '=' expected but eof found.\ndef appendAll(xs: TraversableOnce[A]): Unit\n                                           ^"
     ]
    }
   ],
   "source": [
    "def appendAll(xs: TraversableOnce[A]): Unit"
   ]
  },
  {
   "cell_type": "code",
   "execution_count": 25,
   "metadata": {},
   "outputs": [
    {
     "name": "stderr",
     "output_type": "stream",
     "text": [
      "(console):1: '=' expected but eof found.\n",
      "def count(p: (A) => Boolean):Int\n",
      "                                ^"
     ]
    },
    {
     "ename": "",
     "evalue": "",
     "output_type": "error",
     "traceback": [
      "(console):1: '=' expected but eof found.\ndef count(p: (A) => Boolean):Int\n                                ^"
     ]
    }
   ],
   "source": [
    "def count(p: (A) => Boolean):Int"
   ]
  },
  {
   "cell_type": "code",
   "execution_count": 25,
   "metadata": {},
   "outputs": [
    {
     "name": "stderr",
     "output_type": "stream",
     "text": [
      "(console):1: '=' expected but eof found.\n",
      "def += (elem: A): ArrayBuffer.this.type\n",
      "                                       ^"
     ]
    },
    {
     "ename": "",
     "evalue": "",
     "output_type": "error",
     "traceback": [
      "(console):1: '=' expected but eof found.\ndef += (elem: A): ArrayBuffer.this.type\n                                       ^"
     ]
    }
   ],
   "source": [
    "def += (elem: A): ArrayBuffer.this.type"
   ]
  },
  {
   "cell_type": "code",
   "execution_count": 25,
   "metadata": {},
   "outputs": [
    {
     "name": "stderr",
     "output_type": "stream",
     "text": [
      "(console):1: '=' expected but eof found.\n",
      "def copyToArray[B >: A] (xs: Array[B]): Unit\n",
      "                                            ^"
     ]
    },
    {
     "ename": "",
     "evalue": "",
     "output_type": "error",
     "traceback": [
      "(console):1: '=' expected but eof found.\ndef copyToArray[B >: A] (xs: Array[B]): Unit\n                                            ^"
     ]
    }
   ],
   "source": [
    "def copyToArray[B >: A] (xs: Array[B]): Unit"
   ]
  },
  {
   "cell_type": "code",
   "execution_count": 25,
   "metadata": {},
   "outputs": [
    {
     "name": "stderr",
     "output_type": "stream",
     "text": [
      "(console):1: '=' expected but eof found.\n",
      "def max[B >: A] (implicit cmp: Ordering[B]): A\n",
      "                                              ^"
     ]
    },
    {
     "ename": "",
     "evalue": "",
     "output_type": "error",
     "traceback": [
      "(console):1: '=' expected but eof found.\ndef max[B >: A] (implicit cmp: Ordering[B]): A\n                                              ^"
     ]
    }
   ],
   "source": [
    "def max[B >: A] (implicit cmp: Ordering[B]): A"
   ]
  },
  {
   "cell_type": "code",
   "execution_count": 25,
   "metadata": {},
   "outputs": [
    {
     "name": "stderr",
     "output_type": "stream",
     "text": [
      "(console):1: '=' expected but eof found.\n",
      "def padTo[B >: A, That](len: Int, elem: B)\n",
      "                                          ^"
     ]
    },
    {
     "ename": "",
     "evalue": "",
     "output_type": "error",
     "traceback": [
      "(console):1: '=' expected but eof found.\ndef padTo[B >: A, That](len: Int, elem: B)\n                                          ^"
     ]
    }
   ],
   "source": [
    "def padTo[B >: A, That](len: Int, elem: B)"
   ]
  },
  {
   "cell_type": "markdown",
   "metadata": {},
   "source": [
    "## 7. matrix"
   ]
  },
  {
   "cell_type": "code",
   "execution_count": 26,
   "metadata": {},
   "outputs": [
    {
     "data": {
      "text/plain": [
       "\u001b[36mmatrix\u001b[39m: \u001b[32mArray\u001b[39m[\u001b[32mArray\u001b[39m[\u001b[32mDouble\u001b[39m]] = \u001b[33mArray\u001b[39m(\n",
       "  \u001b[33mArray\u001b[39m(\u001b[32m0.0\u001b[39m, \u001b[32m0.0\u001b[39m, \u001b[32m0.0\u001b[39m, \u001b[32m0.0\u001b[39m),\n",
       "  \u001b[33mArray\u001b[39m(\u001b[32m0.0\u001b[39m, \u001b[32m0.0\u001b[39m, \u001b[32m0.0\u001b[39m, \u001b[32m0.0\u001b[39m),\n",
       "  \u001b[33mArray\u001b[39m(\u001b[32m0.0\u001b[39m, \u001b[32m0.0\u001b[39m, \u001b[32m0.0\u001b[39m, \u001b[32m0.0\u001b[39m)\n",
       ")"
      ]
     },
     "execution_count": 26,
     "metadata": {},
     "output_type": "execute_result"
    }
   ],
   "source": [
    "val matrix = Array.ofDim[Double](3, 4)"
   ]
  },
  {
   "cell_type": "code",
   "execution_count": 26,
   "metadata": {},
   "outputs": [
    {
     "name": "stderr",
     "output_type": "stream",
     "text": [
      "cmd26.sc:1: not found: value row\n",
      "val res26 = matrix(row)(column) = 42\n",
      "                   ^cmd26.sc:1: not found: value column\n",
      "val res26 = matrix(row)(column) = 42\n",
      "                        ^Compilation Failed"
     ]
    },
    {
     "ename": "",
     "evalue": "",
     "output_type": "error",
     "traceback": [
      "Compilation Failed"
     ]
    }
   ],
   "source": [
    "matrix(row)(column) = 42"
   ]
  },
  {
   "cell_type": "code",
   "execution_count": 27,
   "metadata": {},
   "outputs": [
    {
     "data": {
      "text/plain": [
       "\u001b[36mtriangle\u001b[39m: \u001b[32mArray\u001b[39m[\u001b[32mArray\u001b[39m[\u001b[32mInt\u001b[39m]] = \u001b[33mArray\u001b[39m(\n",
       "  \u001b[33mArray\u001b[39m(\u001b[32m0\u001b[39m),\n",
       "  \u001b[33mArray\u001b[39m(\u001b[32m0\u001b[39m, \u001b[32m0\u001b[39m),\n",
       "  \u001b[33mArray\u001b[39m(\u001b[32m0\u001b[39m, \u001b[32m0\u001b[39m, \u001b[32m0\u001b[39m),\n",
       "  \u001b[33mArray\u001b[39m(\u001b[32m0\u001b[39m, \u001b[32m0\u001b[39m, \u001b[32m0\u001b[39m, \u001b[32m0\u001b[39m),\n",
       "  \u001b[33mArray\u001b[39m(\u001b[32m0\u001b[39m, \u001b[32m0\u001b[39m, \u001b[32m0\u001b[39m, \u001b[32m0\u001b[39m, \u001b[32m0\u001b[39m),\n",
       "  \u001b[33mArray\u001b[39m(\u001b[32m0\u001b[39m, \u001b[32m0\u001b[39m, \u001b[32m0\u001b[39m, \u001b[32m0\u001b[39m, \u001b[32m0\u001b[39m, \u001b[32m0\u001b[39m),\n",
       "  \u001b[33mArray\u001b[39m(\u001b[32m0\u001b[39m, \u001b[32m0\u001b[39m, \u001b[32m0\u001b[39m, \u001b[32m0\u001b[39m, \u001b[32m0\u001b[39m, \u001b[32m0\u001b[39m, \u001b[32m0\u001b[39m),\n",
       "  \u001b[33mArray\u001b[39m(\u001b[32m0\u001b[39m, \u001b[32m0\u001b[39m, \u001b[32m0\u001b[39m, \u001b[32m0\u001b[39m, \u001b[32m0\u001b[39m, \u001b[32m0\u001b[39m, \u001b[32m0\u001b[39m, \u001b[32m0\u001b[39m),\n",
       "  \u001b[33mArray\u001b[39m(\u001b[32m0\u001b[39m, \u001b[32m0\u001b[39m, \u001b[32m0\u001b[39m, \u001b[32m0\u001b[39m, \u001b[32m0\u001b[39m, \u001b[32m0\u001b[39m, \u001b[32m0\u001b[39m, \u001b[32m0\u001b[39m, \u001b[32m0\u001b[39m),\n",
       "  \u001b[33mArray\u001b[39m(\u001b[32m0\u001b[39m, \u001b[32m0\u001b[39m, \u001b[32m0\u001b[39m, \u001b[32m0\u001b[39m, \u001b[32m0\u001b[39m, \u001b[32m0\u001b[39m, \u001b[32m0\u001b[39m, \u001b[32m0\u001b[39m, \u001b[32m0\u001b[39m, \u001b[32m0\u001b[39m)\n",
       ")"
      ]
     },
     "execution_count": 27,
     "metadata": {},
     "output_type": "execute_result"
    }
   ],
   "source": [
    "val triangle = new Array[Array[Int]](10)\n",
    "for (i <- 0 until triangle.length)\n",
    "    triangle(i) = new Array[Int](i + 1)"
   ]
  },
  {
   "cell_type": "markdown",
   "metadata": {},
   "source": [
    "## 8. java connection"
   ]
  },
  {
   "cell_type": "code",
   "execution_count": 28,
   "metadata": {},
   "outputs": [
    {
     "data": {
      "text/plain": [
       "\u001b[32mimport \u001b[39m\u001b[36mscala.collection.JavaConversions.bufferAsJavaList\n",
       "\u001b[39m\n",
       "\u001b[32mimport \u001b[39m\u001b[36mscala.collection.mutable.ArrayBuffer\n",
       "\u001b[39m\n",
       "\u001b[36mcommand\u001b[39m: \u001b[32mArrayBuffer\u001b[39m[\u001b[32mString\u001b[39m] = \u001b[33mArrayBuffer\u001b[39m(\u001b[32m\"ls\"\u001b[39m, \u001b[32m\"-al\"\u001b[39m, \u001b[32m\"/home/cay\"\u001b[39m)\n",
       "\u001b[36mpb\u001b[39m: \u001b[32mProcessBuilder\u001b[39m = java.lang.ProcessBuilder@54b3fb17"
      ]
     },
     "execution_count": 28,
     "metadata": {},
     "output_type": "execute_result"
    }
   ],
   "source": [
    "import scala.collection.JavaConversions.bufferAsJavaList\n",
    "import scala.collection.mutable.ArrayBuffer\n",
    "val command = ArrayBuffer(\"ls\", \"-al\", \"/home/cay\")\n",
    "val pb = new ProcessBuilder(command)"
   ]
  },
  {
   "cell_type": "code",
   "execution_count": 29,
   "metadata": {},
   "outputs": [
    {
     "data": {
      "text/plain": [
       "\u001b[32mimport \u001b[39m\u001b[36mscala.collection.JavaConversions.asScalaBuffer\n",
       "\u001b[39m\n",
       "\u001b[32mimport \u001b[39m\u001b[36mscala.collection.mutable.Buffer\n",
       "\u001b[39m\n",
       "\u001b[36mcmd\u001b[39m: \u001b[32mBuffer\u001b[39m[\u001b[32mString\u001b[39m] = \u001b[33mArrayBuffer\u001b[39m(\u001b[32m\"ls\"\u001b[39m, \u001b[32m\"-al\"\u001b[39m, \u001b[32m\"/home/cay\"\u001b[39m)"
      ]
     },
     "execution_count": 29,
     "metadata": {},
     "output_type": "execute_result"
    }
   ],
   "source": [
    "import scala.collection.JavaConversions.asScalaBuffer\n",
    "import scala.collection.mutable.Buffer\n",
    "val cmd : Buffer[String] = pb.command()"
   ]
  },
  {
   "cell_type": "code",
   "execution_count": null,
   "metadata": {},
   "outputs": [],
   "source": []
  },
  {
   "cell_type": "code",
   "execution_count": null,
   "metadata": {},
   "outputs": [],
   "source": []
  },
  {
   "cell_type": "code",
   "execution_count": null,
   "metadata": {},
   "outputs": [],
   "source": []
  },
  {
   "cell_type": "code",
   "execution_count": null,
   "metadata": {},
   "outputs": [],
   "source": []
  }
 ],
 "metadata": {
  "kernelspec": {
   "display_name": "Scala",
   "language": "scala",
   "name": "scala"
  },
  "language_info": {
   "codemirror_mode": "text/x-scala",
   "file_extension": ".scala",
   "mimetype": "text/x-scala",
   "name": "scala",
   "nbconvert_exporter": "script",
   "version": "2.12.7"
  }
 },
 "nbformat": 4,
 "nbformat_minor": 2
}

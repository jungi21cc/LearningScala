{
 "cells": [
  {
   "cell_type": "markdown",
   "metadata": {},
   "source": [
    "# Chapter 05 Class"
   ]
  },
  {
   "cell_type": "markdown",
   "metadata": {},
   "source": [
    "## 1. immutable method"
   ]
  },
  {
   "cell_type": "code",
   "execution_count": 1,
   "metadata": {},
   "outputs": [
    {
     "data": {
      "text/plain": [
       "defined \u001b[32mclass\u001b[39m \u001b[36mCounter\u001b[39m"
      ]
     },
     "execution_count": 1,
     "metadata": {},
     "output_type": "execute_result"
    }
   ],
   "source": [
    "class Counter {\n",
    "    private var value = 0\n",
    "    def increment() {value += 1}\n",
    "    def current() = value\n",
    "}"
   ]
  },
  {
   "cell_type": "code",
   "execution_count": 2,
   "metadata": {},
   "outputs": [
    {
     "name": "stdout",
     "output_type": "stream",
     "text": [
      "1\n"
     ]
    },
    {
     "data": {
      "text/plain": [
       "\u001b[36mmyCounter\u001b[39m: \u001b[32mCounter\u001b[39m = ammonite.$sess.cmd0$Helper$Counter@5d8516f4"
      ]
     },
     "execution_count": 2,
     "metadata": {},
     "output_type": "execute_result"
    }
   ],
   "source": [
    "val myCounter = new Counter\n",
    "myCounter.increment()\n",
    "println(myCounter.current)"
   ]
  },
  {
   "cell_type": "code",
   "execution_count": 3,
   "metadata": {},
   "outputs": [
    {
     "data": {
      "text/plain": [
       "\u001b[36mres2\u001b[39m: \u001b[32mInt\u001b[39m = \u001b[32m1\u001b[39m"
      ]
     },
     "execution_count": 3,
     "metadata": {},
     "output_type": "execute_result"
    }
   ],
   "source": [
    "myCounter.current"
   ]
  },
  {
   "cell_type": "code",
   "execution_count": 4,
   "metadata": {},
   "outputs": [
    {
     "data": {
      "text/plain": [
       "\u001b[36mres3\u001b[39m: \u001b[32mInt\u001b[39m = \u001b[32m1\u001b[39m"
      ]
     },
     "execution_count": 4,
     "metadata": {},
     "output_type": "execute_result"
    }
   ],
   "source": [
    "myCounter.current()"
   ]
  },
  {
   "cell_type": "code",
   "execution_count": 5,
   "metadata": {},
   "outputs": [
    {
     "name": "stdout",
     "output_type": "stream",
     "text": [
      "2\n"
     ]
    }
   ],
   "source": [
    "myCounter.increment()\n",
    "println(myCounter.current)"
   ]
  },
  {
   "cell_type": "code",
   "execution_count": null,
   "metadata": {},
   "outputs": [],
   "source": []
  },
  {
   "cell_type": "markdown",
   "metadata": {},
   "source": [
    "## 2. property with getter / setter"
   ]
  },
  {
   "cell_type": "code",
   "execution_count": 5,
   "metadata": {},
   "outputs": [
    {
     "name": "stderr",
     "output_type": "stream",
     "text": [
      "SyntaxError: found \"public class Person \", expected \"while\" | \"-\".? ~ (Float | Int) | Bool | String | \"'\" ~/ (Char | Symbol) | `null` | \"import\" | Dcl | TraitDef | ClsDef | ObjDef | \"{\" | Unparsed | CDSect | PI | Comment | Element | CharPred(scalaparse.syntax.Basic$$$Lambda$581/0x00000008003ce840@4de30f47) | \"new\" | \"(\" | AlphabetKeywords | SymbolicKeywords | \"if\" | LocalMod | AccessMod | `override` | \"@\" | \"`\" | `this` | `super` ~ ClassQualifier.? | End | \"implicit\" | \"throw\" | \"return\" | \"try\" | \"for\" | \"do\" at index 0\n",
      "public class Person \n",
      "^"
     ]
    },
    {
     "ename": "",
     "evalue": "",
     "output_type": "error",
     "traceback": [
      "SyntaxError: found \"public class Person \", expected \"while\" | \"-\".? ~ (Float | Int) | Bool | String | \"'\" ~/ (Char | Symbol) | `null` | \"import\" | Dcl | TraitDef | ClsDef | ObjDef | \"{\" | Unparsed | CDSect | PI | Comment | Element | CharPred(scalaparse.syntax.Basic$$$Lambda$581/0x00000008003ce840@4de30f47) | \"new\" | \"(\" | AlphabetKeywords | SymbolicKeywords | \"if\" | LocalMod | AccessMod | `override` | \"@\" | \"`\" | `this` | `super` ~ ClassQualifier.? | End | \"implicit\" | \"throw\" | \"return\" | \"try\" | \"for\" | \"do\" at index 0\npublic class Person \n^"
     ]
    }
   ],
   "source": [
    "public class Person {\n",
    "    public int age;\n",
    "}"
   ]
  },
  {
   "cell_type": "code",
   "execution_count": 5,
   "metadata": {},
   "outputs": [
    {
     "name": "stderr",
     "output_type": "stream",
     "text": [
      "SyntaxError: found \"public class Person \", expected \"while\" | \"-\".? ~ (Float | Int) | Bool | String | \"'\" ~/ (Char | Symbol) | `null` | \"import\" | Dcl | TraitDef | ClsDef | ObjDef | \"{\" | Unparsed | CDSect | PI | Comment | Element | CharPred(scalaparse.syntax.Basic$$$Lambda$581/0x00000008003ce840@4de30f47) | \"new\" | \"(\" | AlphabetKeywords | SymbolicKeywords | \"if\" | LocalMod | AccessMod | `override` | \"@\" | \"`\" | `this` | `super` ~ ClassQualifier.? | End | \"implicit\" | \"throw\" | \"return\" | \"try\" | \"for\" | \"do\" at index 0\n",
      "public class Person \n",
      "^"
     ]
    },
    {
     "ename": "",
     "evalue": "",
     "output_type": "error",
     "traceback": [
      "SyntaxError: found \"public class Person \", expected \"while\" | \"-\".? ~ (Float | Int) | Bool | String | \"'\" ~/ (Char | Symbol) | `null` | \"import\" | Dcl | TraitDef | ClsDef | ObjDef | \"{\" | Unparsed | CDSect | PI | Comment | Element | CharPred(scalaparse.syntax.Basic$$$Lambda$581/0x00000008003ce840@4de30f47) | \"new\" | \"(\" | AlphabetKeywords | SymbolicKeywords | \"if\" | LocalMod | AccessMod | `override` | \"@\" | \"`\" | `this` | `super` ~ ClassQualifier.? | End | \"implicit\" | \"throw\" | \"return\" | \"try\" | \"for\" | \"do\" at index 0\npublic class Person \n^"
     ]
    }
   ],
   "source": [
    "public class Person {\n",
    "    private int age;\n",
    "    public int getAge() { return age; }\n",
    "    public void setAge(int age) { this.age = age; }\n",
    "}"
   ]
  },
  {
   "cell_type": "code",
   "execution_count": 5,
   "metadata": {},
   "outputs": [
    {
     "name": "stderr",
     "output_type": "stream",
     "text": [
      "cmd5.sc:1: not found: value public\n",
      "val res5 = public void setAge(int newValue) { if (newValue > age) age = newValue; }\n",
      "           ^cmd5.sc:1: not found: value setAge\n",
      "val res5 = public void setAge(int newValue) { if (newValue > age) age = newValue; }\n",
      "                       ^cmd5.sc:1: not found: value int\n",
      "val res5 = public void setAge(int newValue) { if (newValue > age) age = newValue; }\n",
      "                              ^cmd5.sc:1: not found: value newValue\n",
      "val res5 = public void setAge(int newValue) { if (newValue > age) age = newValue; }\n",
      "                                                  ^cmd5.sc:1: not found: value age\n",
      "val res5 = public void setAge(int newValue) { if (newValue > age) age = newValue; }\n",
      "                                                             ^cmd5.sc:1: not found: value age\n",
      "val res5 = public void setAge(int newValue) { if (newValue > age) age = newValue; }\n",
      "                                                                  ^Compilation Failed"
     ]
    },
    {
     "ename": "",
     "evalue": "",
     "output_type": "error",
     "traceback": [
      "Compilation Failed"
     ]
    }
   ],
   "source": [
    "public void setAge(int newValue) { if (newValue > age) age = newValue; }"
   ]
  },
  {
   "cell_type": "code",
   "execution_count": 6,
   "metadata": {},
   "outputs": [
    {
     "data": {
      "text/plain": [
       "defined \u001b[32mclass\u001b[39m \u001b[36mPerson\u001b[39m"
      ]
     },
     "execution_count": 6,
     "metadata": {},
     "output_type": "execute_result"
    }
   ],
   "source": [
    "class Person {\n",
    "    var age = 0\n",
    "}"
   ]
  },
  {
   "cell_type": "code",
   "execution_count": 6,
   "metadata": {},
   "outputs": [
    {
     "name": "stderr",
     "output_type": "stream",
     "text": [
      "cmd6.sc:1: not found: value fred\n",
      "val res6_0 = println(fred.age)\n",
      "                     ^cmd6.sc:2: not found: value fred\n",
      "val res6_1 = fred.age = 21\n",
      "             ^Compilation Failed"
     ]
    },
    {
     "ename": "",
     "evalue": "",
     "output_type": "error",
     "traceback": [
      "Compilation Failed"
     ]
    }
   ],
   "source": [
    "println(fred.age)\n",
    "fred.age = 21"
   ]
  },
  {
   "cell_type": "code",
   "execution_count": 7,
   "metadata": {},
   "outputs": [
    {
     "data": {
      "text/plain": [
       "defined \u001b[32mclass\u001b[39m \u001b[36mPerson\u001b[39m"
      ]
     },
     "execution_count": 7,
     "metadata": {},
     "output_type": "execute_result"
    }
   ],
   "source": [
    "class Person {\n",
    "    private var privateAge = 0\n",
    "    def age = privateAge\n",
    "    def age_=(newValue: Int) {\n",
    "        if (newValue > privateAge) privateAge = newValue;\n",
    "    }\n",
    "}"
   ]
  },
  {
   "cell_type": "code",
   "execution_count": 8,
   "metadata": {},
   "outputs": [
    {
     "data": {
      "text/plain": [
       "\u001b[36mfred\u001b[39m: \u001b[32mPerson\u001b[39m = ammonite.$sess.cmd6$Helper$Person@7b548786"
      ]
     },
     "execution_count": 8,
     "metadata": {},
     "output_type": "execute_result"
    }
   ],
   "source": [
    "val fred = new Person"
   ]
  },
  {
   "cell_type": "code",
   "execution_count": 9,
   "metadata": {},
   "outputs": [],
   "source": [
    "fred.age = 30"
   ]
  },
  {
   "cell_type": "code",
   "execution_count": 10,
   "metadata": {},
   "outputs": [],
   "source": [
    "fred.age = 21"
   ]
  },
  {
   "cell_type": "code",
   "execution_count": 11,
   "metadata": {},
   "outputs": [
    {
     "name": "stdout",
     "output_type": "stream",
     "text": [
      "30\n"
     ]
    }
   ],
   "source": [
    "println(fred.age)"
   ]
  },
  {
   "cell_type": "code",
   "execution_count": null,
   "metadata": {},
   "outputs": [],
   "source": []
  },
  {
   "cell_type": "markdown",
   "metadata": {},
   "source": [
    "## 3. property with getter only"
   ]
  },
  {
   "cell_type": "code",
   "execution_count": 12,
   "metadata": {},
   "outputs": [
    {
     "data": {
      "text/plain": [
       "defined \u001b[32mclass\u001b[39m \u001b[36mMessage\u001b[39m"
      ]
     },
     "execution_count": 12,
     "metadata": {},
     "output_type": "execute_result"
    }
   ],
   "source": [
    "class Message {\n",
    "    val timeStamp = new java.util.Date\n",
    "}"
   ]
  },
  {
   "cell_type": "code",
   "execution_count": 15,
   "metadata": {},
   "outputs": [
    {
     "data": {
      "text/plain": [
       "defined \u001b[32mclass\u001b[39m \u001b[36mCounter\u001b[39m"
      ]
     },
     "execution_count": 15,
     "metadata": {},
     "output_type": "execute_result"
    }
   ],
   "source": [
    "class Counter {\n",
    "    private var value = 0\n",
    "    def increment() { value += 1 }\n",
    "    def current = value\n",
    "}"
   ]
  },
  {
   "cell_type": "code",
   "execution_count": 16,
   "metadata": {},
   "outputs": [
    {
     "data": {
      "text/plain": [
       "\u001b[36mn\u001b[39m: \u001b[32mInt\u001b[39m = \u001b[32m2\u001b[39m"
      ]
     },
     "execution_count": 16,
     "metadata": {},
     "output_type": "execute_result"
    }
   ],
   "source": [
    "val n = myCounter.current"
   ]
  },
  {
   "cell_type": "code",
   "execution_count": null,
   "metadata": {},
   "outputs": [],
   "source": []
  },
  {
   "cell_type": "markdown",
   "metadata": {},
   "source": [
    "## 4. object-private field"
   ]
  },
  {
   "cell_type": "code",
   "execution_count": 17,
   "metadata": {},
   "outputs": [
    {
     "data": {
      "text/plain": [
       "defined \u001b[32mclass\u001b[39m \u001b[36mCounter\u001b[39m"
      ]
     },
     "execution_count": 17,
     "metadata": {},
     "output_type": "execute_result"
    }
   ],
   "source": [
    "class Counter {\n",
    "    private var value = 0\n",
    "    def increment() { value += 1 }\n",
    "    def isLess(other : Counter) = value < other.value\n",
    "}"
   ]
  },
  {
   "cell_type": "code",
   "execution_count": 18,
   "metadata": {},
   "outputs": [
    {
     "data": {
      "text/plain": [
       "\u001b[36mvalue\u001b[39m: \u001b[32mInt\u001b[39m = \u001b[32m0\u001b[39m"
      ]
     },
     "execution_count": 18,
     "metadata": {},
     "output_type": "execute_result"
    }
   ],
   "source": [
    "private[this] var value = 0"
   ]
  },
  {
   "cell_type": "code",
   "execution_count": null,
   "metadata": {},
   "outputs": [],
   "source": []
  },
  {
   "cell_type": "markdown",
   "metadata": {},
   "source": [
    "## 5. BeanProperty"
   ]
  },
  {
   "cell_type": "code",
   "execution_count": 18,
   "metadata": {},
   "outputs": [
    {
     "name": "stderr",
     "output_type": "stream",
     "text": [
      "cmd18.sc:140: object BeanProperty is not a member of package reflect\n",
      "possible cause: maybe a semicolon is missing before `object BeanProperty'?\n",
      "import scala.reflect.BeanProperty\n",
      "       ^Compilation Failed"
     ]
    },
    {
     "ename": "",
     "evalue": "",
     "output_type": "error",
     "traceback": [
      "Compilation Failed"
     ]
    }
   ],
   "source": [
    "import scala.reflect.BeanProperty"
   ]
  },
  {
   "cell_type": "code",
   "execution_count": 18,
   "metadata": {},
   "outputs": [
    {
     "name": "stderr",
     "output_type": "stream",
     "text": [
      "cmd18.sc:2: not found: type BeanProperty\n",
      "    @BeanProperty var name: String = _\n",
      "     ^Compilation Failed"
     ]
    },
    {
     "ename": "",
     "evalue": "",
     "output_type": "error",
     "traceback": [
      "Compilation Failed"
     ]
    }
   ],
   "source": [
    "class Person {\n",
    "    @BeanProperty var name: String = _\n",
    "}"
   ]
  },
  {
   "cell_type": "code",
   "execution_count": null,
   "metadata": {},
   "outputs": [],
   "source": []
  },
  {
   "cell_type": "markdown",
   "metadata": {},
   "source": [
    "## 6. this"
   ]
  },
  {
   "cell_type": "code",
   "execution_count": null,
   "metadata": {},
   "outputs": [],
   "source": []
  },
  {
   "cell_type": "code",
   "execution_count": null,
   "metadata": {},
   "outputs": [],
   "source": []
  },
  {
   "cell_type": "code",
   "execution_count": null,
   "metadata": {},
   "outputs": [],
   "source": []
  },
  {
   "cell_type": "code",
   "execution_count": null,
   "metadata": {},
   "outputs": [],
   "source": []
  },
  {
   "cell_type": "code",
   "execution_count": null,
   "metadata": {},
   "outputs": [],
   "source": []
  },
  {
   "cell_type": "code",
   "execution_count": null,
   "metadata": {},
   "outputs": [],
   "source": []
  },
  {
   "cell_type": "code",
   "execution_count": null,
   "metadata": {},
   "outputs": [],
   "source": []
  },
  {
   "cell_type": "code",
   "execution_count": null,
   "metadata": {},
   "outputs": [],
   "source": []
  },
  {
   "cell_type": "code",
   "execution_count": null,
   "metadata": {},
   "outputs": [],
   "source": []
  },
  {
   "cell_type": "code",
   "execution_count": null,
   "metadata": {},
   "outputs": [],
   "source": []
  },
  {
   "cell_type": "code",
   "execution_count": null,
   "metadata": {},
   "outputs": [],
   "source": []
  }
 ],
 "metadata": {
  "kernelspec": {
   "display_name": "Scala",
   "language": "scala",
   "name": "scala"
  },
  "language_info": {
   "codemirror_mode": "text/x-scala",
   "file_extension": ".scala",
   "mimetype": "text/x-scala",
   "name": "scala",
   "nbconvert_exporter": "script",
   "version": "2.12.7"
  }
 },
 "nbformat": 4,
 "nbformat_minor": 2
}

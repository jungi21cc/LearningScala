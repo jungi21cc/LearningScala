{
 "cells": [
  {
   "cell_type": "markdown",
   "metadata": {},
   "source": [
    "# Learning Scala"
   ]
  },
  {
   "cell_type": "markdown",
   "metadata": {},
   "source": [
    "### print"
   ]
  },
  {
   "cell_type": "code",
   "execution_count": 2,
   "metadata": {},
   "outputs": [
    {
     "data": {
      "text/plain": [
       "defined \u001b[32mobject\u001b[39m \u001b[36mLearnScala\u001b[39m"
      ]
     },
     "execution_count": 2,
     "metadata": {},
     "output_type": "execute_result"
    }
   ],
   "source": [
    "object LearnScala {\n",
    "  def main(args: Array[String]): Unit = {\n",
    "    println(\"Hello, world!\")\n",
    "  }\n",
    "}"
   ]
  },
  {
   "cell_type": "code",
   "execution_count": 3,
   "metadata": {},
   "outputs": [
    {
     "name": "stdout",
     "output_type": "stream",
     "text": [
      "hello world\n"
     ]
    }
   ],
   "source": [
    "println(\"hello world\")"
   ]
  },
  {
   "cell_type": "code",
   "execution_count": 4,
   "metadata": {},
   "outputs": [
    {
     "data": {
      "text/plain": [
       "\u001b[36mtoday\u001b[39m: \u001b[32mString\u001b[39m = \u001b[32m\"Tue\"\u001b[39m\n",
       "\u001b[36mres3_1\u001b[39m: \u001b[32mString\u001b[39m = \u001b[32m\"Weekday\"\u001b[39m"
      ]
     },
     "execution_count": 4,
     "metadata": {},
     "output_type": "execute_result"
    }
   ],
   "source": [
    "val today = \"Tue\"\n",
    "\n",
    "today match {\n",
    "  case \"Mon\" | \"Tue\" | \"Wed\" | \"Thu\" | \"Fri\" => \"Weekday\"\n",
    "  case \"Sat\" | \"Sun\" => \"Weekend\"\n",
    "}"
   ]
  },
  {
   "cell_type": "code",
   "execution_count": 5,
   "metadata": {},
   "outputs": [
    {
     "data": {
      "text/plain": [
       "\u001b[36mx\u001b[39m: \u001b[32mInt\u001b[39m = \u001b[32m2\u001b[39m\n",
       "\u001b[36my\u001b[39m: \u001b[32mInt\u001b[39m = \u001b[32m3\u001b[39m\n",
       "\u001b[36mres4_2\u001b[39m: \u001b[32mInt\u001b[39m = \u001b[32m6\u001b[39m"
      ]
     },
     "execution_count": 5,
     "metadata": {},
     "output_type": "execute_result"
    }
   ],
   "source": [
    "val x: Int = 2\n",
    "val y: Int = 3\n",
    "x * y"
   ]
  },
  {
   "cell_type": "code",
   "execution_count": 10,
   "metadata": {},
   "outputs": [
    {
     "data": {
      "text/plain": [
       "\u001b[36mres9\u001b[39m: \u001b[32mInt\u001b[39m = \u001b[32m6\u001b[39m"
      ]
     },
     "execution_count": 10,
     "metadata": {},
     "output_type": "execute_result"
    }
   ],
   "source": [
    "1 + 2 + 3"
   ]
  },
  {
   "cell_type": "code",
   "execution_count": 11,
   "metadata": {},
   "outputs": [
    {
     "data": {
      "text/plain": [
       "\u001b[36mres10\u001b[39m: \u001b[32mInt\u001b[39m = \u001b[32m15\u001b[39m"
      ]
     },
     "execution_count": 11,
     "metadata": {},
     "output_type": "execute_result"
    }
   ],
   "source": [
    "4 + 5 + 6"
   ]
  },
  {
   "cell_type": "code",
   "execution_count": 11,
   "metadata": {},
   "outputs": [
    {
     "name": "stderr",
     "output_type": "stream",
     "text": [
      "cmd11.sc:1: not found: value res0\n",
      "val res11 = res0 * res1\n",
      "            ^cmd11.sc:1: not found: value res1\n",
      "val res11 = res0 * res1\n",
      "                   ^Compilation Failed"
     ]
    },
    {
     "ename": "",
     "evalue": "",
     "output_type": "error",
     "traceback": [
      "Compilation Failed"
     ]
    }
   ],
   "source": [
    "res0 * res1"
   ]
  },
  {
   "cell_type": "code",
   "execution_count": 12,
   "metadata": {},
   "outputs": [
    {
     "data": {
      "text/plain": [
       "\u001b[36mres11_0\u001b[39m: \u001b[32mBoolean\u001b[39m = true\n",
       "\u001b[36mres11_1\u001b[39m: \u001b[32mBoolean\u001b[39m = false\n",
       "\u001b[36mres11_2\u001b[39m: \u001b[32mBoolean\u001b[39m = false\n",
       "\u001b[36mres11_3\u001b[39m: \u001b[32mBoolean\u001b[39m = true"
      ]
     },
     "execution_count": 12,
     "metadata": {},
     "output_type": "execute_result"
    }
   ],
   "source": [
    "100 > 10\n",
    "100 < 10\n",
    "100 == 10\n",
    "100 == 100"
   ]
  },
  {
   "cell_type": "code",
   "execution_count": 13,
   "metadata": {},
   "outputs": [
    {
     "data": {
      "text/plain": [
       "\u001b[36mtuple\u001b[39m: (\u001b[32mInt\u001b[39m, \u001b[32mInt\u001b[39m, \u001b[32mInt\u001b[39m, \u001b[32mDouble\u001b[39m, \u001b[32mString\u001b[39m) = (\u001b[32m1\u001b[39m, \u001b[32m2\u001b[39m, \u001b[32m3\u001b[39m, \u001b[32m4.0\u001b[39m, \u001b[32m\"Five\"\u001b[39m)"
      ]
     },
     "execution_count": 13,
     "metadata": {},
     "output_type": "execute_result"
    }
   ],
   "source": [
    "val tuple = (1, 2, 3, 4.0, \"Five\")"
   ]
  },
  {
   "cell_type": "code",
   "execution_count": 14,
   "metadata": {},
   "outputs": [
    {
     "data": {
      "text/plain": [
       "\u001b[36mresult\u001b[39m: \u001b[32mDouble\u001b[39m = \u001b[32m50.0\u001b[39m"
      ]
     },
     "execution_count": 14,
     "metadata": {},
     "output_type": "execute_result"
    }
   ],
   "source": [
    "val result = {\n",
    "  val x: Double = 100\n",
    "  x * 0.5\n",
    "}"
   ]
  },
  {
   "cell_type": "code",
   "execution_count": 15,
   "metadata": {},
   "outputs": [
    {
     "name": "stdout",
     "output_type": "stream",
     "text": [
      "Not comment\n"
     ]
    }
   ],
   "source": [
    "// println(\"Comment\")\n",
    "println(\"Not comment\")"
   ]
  },
  {
   "cell_type": "code",
   "execution_count": 16,
   "metadata": {},
   "outputs": [
    {
     "name": "stdout",
     "output_type": "stream",
     "text": [
      "Weekend\n"
     ]
    },
    {
     "data": {
      "text/plain": [
       "\u001b[36mtoday\u001b[39m: \u001b[32mString\u001b[39m = \u001b[32m\"Sun\"\u001b[39m"
      ]
     },
     "execution_count": 16,
     "metadata": {},
     "output_type": "execute_result"
    }
   ],
   "source": [
    "val today = \"Sun\"\n",
    "\n",
    "if (today == \"Mon\") println(\"Weekday\") \n",
    "else if (today == \"Tue\") println(\"Weekday\") \n",
    "else if (today == \"Wed\") println(\"Weekday\") \n",
    "else if (today == \"Thu\") println(\"Weekday\") \n",
    "else if (today == \"Fri\") println(\"Weekday\") \n",
    "else if (today == \"Sat\") println(\"Weekend\") \n",
    "else if (today == \"Sun\") println(\"Weekend\")"
   ]
  },
  {
   "cell_type": "code",
   "execution_count": 17,
   "metadata": {},
   "outputs": [
    {
     "data": {
      "text/plain": [
       "\u001b[36mtoday\u001b[39m: \u001b[32mString\u001b[39m = \u001b[32m\"Tue\"\u001b[39m\n",
       "\u001b[36mres16_1\u001b[39m: \u001b[32mString\u001b[39m = \u001b[32m\"Weekday\"\u001b[39m"
      ]
     },
     "execution_count": 17,
     "metadata": {},
     "output_type": "execute_result"
    }
   ],
   "source": [
    "val today = \"Tue\"\n",
    "\n",
    "today match {\n",
    "  case \"Mon\" | \"Tue\" | \"Wed\" | \"Thu\" | \"Fri\" => \"Weekday\"\n",
    "  case \"Sat\" | \"Sun\" => \"Weekend\"\n",
    "}"
   ]
  },
  {
   "cell_type": "code",
   "execution_count": 19,
   "metadata": {},
   "outputs": [
    {
     "name": "stdout",
     "output_type": "stream",
     "text": [
      "Day1) Day2) Day3) Day4) Day5) Day6) Day7) Day8) Day9) Day10) "
     ]
    }
   ],
   "source": [
    "for {x <- 1 to 10} \n",
    "print(\"Day\" + x + \") \")"
   ]
  },
  {
   "cell_type": "code",
   "execution_count": 20,
   "metadata": {},
   "outputs": [
    {
     "name": "stdout",
     "output_type": "stream",
     "text": [
      "4\n",
      "5\n",
      "8\n",
      "10\n",
      "12\n",
      "15\n"
     ]
    }
   ],
   "source": [
    "for {x <- 1 to 3}{\n",
    "  for {y <- 4 to 5}{\n",
    "    println(x * y)\n",
    "  }\n",
    "}"
   ]
  },
  {
   "cell_type": "code",
   "execution_count": 21,
   "metadata": {},
   "outputs": [
    {
     "name": "stdout",
     "output_type": "stream",
     "text": [
      "4\n",
      "5\n",
      "8\n",
      "10\n",
      "12\n",
      "15\n"
     ]
    }
   ],
   "source": [
    "for {x <- 1 to 3; y <- 4 to 5} \n",
    "println(x * y)"
   ]
  },
  {
   "cell_type": "code",
   "execution_count": 22,
   "metadata": {},
   "outputs": [
    {
     "name": "stdout",
     "output_type": "stream",
     "text": [
      "4\n",
      "5\n",
      "8\n",
      "10\n",
      "12\n",
      "15\n"
     ]
    }
   ],
   "source": [
    "for {x <- 1 to 3\n",
    "     y <- 4 to 5} \n",
    "println(x * y)"
   ]
  },
  {
   "cell_type": "code",
   "execution_count": 22,
   "metadata": {},
   "outputs": [
    {
     "name": "stderr",
     "output_type": "stream",
     "text": [
      "cmd22.sc:1: not found: value int\n",
      "val res22_0 = int a;\n",
      "              ^cmd22.sc:2: value b is not a member of object String\n",
      "val res22_1 = String b;\n",
      "                     ^Compilation Failed"
     ]
    },
    {
     "ename": "",
     "evalue": "",
     "output_type": "error",
     "traceback": [
      "Compilation Failed"
     ]
    }
   ],
   "source": [
    "int a;\n",
    "String b;"
   ]
  },
  {
   "cell_type": "code",
   "execution_count": null,
   "metadata": {},
   "outputs": [],
   "source": []
  },
  {
   "cell_type": "code",
   "execution_count": 22,
   "metadata": {},
   "outputs": [
    {
     "name": "stderr",
     "output_type": "stream",
     "text": [
      "cmd22.sc:3: not found: type StringIterator\n",
      "    class Iter extends StringIterator(args(0)) with RichIterator\n",
      "                       ^cmd22.sc:3: not found: type RichIterator\n",
      "    class Iter extends StringIterator(args(0)) with RichIterator\n",
      "                                                    ^cmd22.sc:3: no arguments allowed for nullary constructor Object: ()Object\n",
      "    class Iter extends StringIterator(args(0)) with RichIterator\n",
      "                                          ^cmd22.sc:5: value foreach is not a member of Iter\n",
      "    iter foreach println\n",
      "         ^Compilation Failed"
     ]
    },
    {
     "ename": "",
     "evalue": "",
     "output_type": "error",
     "traceback": [
      "Compilation Failed"
     ]
    }
   ],
   "source": [
    "object StringIteratorTest {\n",
    "  def main(args: Array[String]) {\n",
    "    class Iter extends StringIterator(args(0)) with RichIterator\n",
    "    val iter = new Iter\n",
    "    iter foreach println\n",
    "  }\n",
    "}"
   ]
  },
  {
   "cell_type": "code",
   "execution_count": null,
   "metadata": {},
   "outputs": [],
   "source": []
  },
  {
   "cell_type": "code",
   "execution_count": null,
   "metadata": {},
   "outputs": [],
   "source": []
  }
 ],
 "metadata": {
  "kernelspec": {
   "display_name": "Scala",
   "language": "scala",
   "name": "scala"
  },
  "language_info": {
   "codemirror_mode": "text/x-scala",
   "file_extension": ".scala",
   "mimetype": "text/x-scala",
   "name": "scala",
   "nbconvert_exporter": "script",
   "version": "2.12.7"
  }
 },
 "nbformat": 4,
 "nbformat_minor": 2
}
